{
 "cells": [
  {
   "cell_type": "code",
   "execution_count": 1,
   "id": "2c888b58-e08b-4554-a27c-81531ae1ab7c",
   "metadata": {},
   "outputs": [],
   "source": [
    "from langchain.llms import OpenAI\n",
    "from dotenv import load_dotenv\n",
    "import os"
   ]
  },
  {
   "cell_type": "code",
   "execution_count": 2,
   "id": "35de62ef-3f4a-4e32-b69b-1d045c8c018d",
   "metadata": {},
   "outputs": [],
   "source": [
    "# Load environment variables from the .env file\n",
    "from dotenv import load_dotenv\n",
    "import os\n",
    "current_directory = os.getcwd()\n",
    "env_path = os.path.abspath(os.path.join(current_directory, '..', '..', '.env'))\n",
    "load_dotenv(env_path)\n",
    "OPENAI_API_KEY=os.getenv(\"OPENAI_API_KEY\")"
   ]
  },
  {
   "cell_type": "code",
   "execution_count": 3,
   "id": "8615d369-a693-42e7-97bb-557d5b92c31d",
   "metadata": {},
   "outputs": [
    {
     "data": {
      "text/plain": [
       "True"
      ]
     },
     "execution_count": 3,
     "metadata": {},
     "output_type": "execute_result"
    }
   ],
   "source": [
    "load_dotenv(env_path)"
   ]
  },
  {
   "cell_type": "code",
   "execution_count": 4,
   "id": "39d1945b-2a5b-4d33-a2ac-a04d494742fb",
   "metadata": {},
   "outputs": [],
   "source": [
    "OPENAI_API_KEY=os.getenv(\"OPENAI_API_KEY\")"
   ]
  },
  {
   "cell_type": "code",
   "execution_count": 6,
   "id": "142400fb-4792-48b0-8b6b-3a1d8c1c1fab",
   "metadata": {},
   "outputs": [
    {
     "name": "stderr",
     "output_type": "stream",
     "text": [
      "/home/ablaze/miniconda3/envs/week_11_backend/lib/python3.11/site-packages/langchain_core/_api/deprecation.py:117: LangChainDeprecationWarning: The class `langchain_community.llms.openai.OpenAI` was deprecated in langchain-community 0.0.10 and will be removed in 0.2.0. An updated version of the class exists in the langchain-openai package and should be used instead. To use it run `pip install -U langchain-openai` and import as `from langchain_openai import OpenAI`.\n",
      "  warn_deprecated(\n"
     ]
    }
   ],
   "source": [
    "llm=OpenAI(temperature=0.6, openai_api_key=OPENAI_API_KEY)"
   ]
  },
  {
   "cell_type": "code",
   "execution_count": 7,
   "id": "e12bb356-a17d-4002-8e07-511512f8cbba",
   "metadata": {},
   "outputs": [
    {
     "name": "stderr",
     "output_type": "stream",
     "text": [
      "/home/ablaze/miniconda3/envs/week_11_backend/lib/python3.11/site-packages/langchain_core/_api/deprecation.py:117: LangChainDeprecationWarning: The function `predict` was deprecated in LangChain 0.1.7 and will be removed in 0.2.0. Use invoke instead.\n",
      "  warn_deprecated(\n"
     ]
    },
    {
     "data": {
      "text/plain": [
       "'\\n\\nThe capital of Ethiopia is Addis Ababa.'"
      ]
     },
     "execution_count": 7,
     "metadata": {},
     "output_type": "execute_result"
    }
   ],
   "source": [
    "text=\"What is the capital of Ethiopia\"\n",
    "llm.predict(text)"
   ]
  },
  {
   "cell_type": "markdown",
   "id": "e1f1bea1-e6a5-4499-ad08-c07718bab031",
   "metadata": {},
   "source": [
    "### Prompt Templates"
   ]
  },
  {
   "cell_type": "code",
   "execution_count": 8,
   "id": "62b00093-b12d-405a-98e4-9eab23f715cf",
   "metadata": {},
   "outputs": [],
   "source": [
    "from langchain.prompts import PromptTemplate"
   ]
  },
  {
   "cell_type": "code",
   "execution_count": 9,
   "id": "a452b8cd-c64a-4e01-a1b8-5a4d47203a78",
   "metadata": {},
   "outputs": [
    {
     "data": {
      "text/plain": [
       "'Tell me the capital of Ethiopia'"
      ]
     },
     "execution_count": 9,
     "metadata": {},
     "output_type": "execute_result"
    }
   ],
   "source": [
    "prompt_template = PromptTemplate(input_variables=['country'],\n",
    "template=\"Tell me the capital of {country}\")\n",
    "prompt_template.format(country=\"Ethiopia\")"
   ]
  },
  {
   "cell_type": "code",
   "execution_count": 10,
   "id": "28f63e72-94d8-48ea-b237-a3a62d2c0180",
   "metadata": {},
   "outputs": [
    {
     "name": "stderr",
     "output_type": "stream",
     "text": [
      "/home/ablaze/miniconda3/envs/week_11_backend/lib/python3.11/site-packages/langchain_core/_api/deprecation.py:117: LangChainDeprecationWarning: The function `run` was deprecated in LangChain 0.1.0 and will be removed in 0.2.0. Use invoke instead.\n",
      "  warn_deprecated(\n"
     ]
    },
    {
     "data": {
      "text/plain": [
       "'\\n\\nThe capital of Ethiopia is Addis Ababa.'"
      ]
     },
     "execution_count": 10,
     "metadata": {},
     "output_type": "execute_result"
    }
   ],
   "source": [
    "from langchain.chains import LLMChain\n",
    "chain=LLMChain(llm=llm,prompt=prompt_template)\n",
    "chain.run(\"Ethiopia\")"
   ]
  },
  {
   "cell_type": "markdown",
   "id": "fec8b5da-6d1d-4ccb-afa6-9982ac84fbc6",
   "metadata": {},
   "source": [
    "## Combining Multiple Chains Uisng simple Sequential Chain"
   ]
  },
  {
   "cell_type": "code",
   "execution_count": 11,
   "id": "31d6e27d-af2e-4587-92cf-fd397ead1640",
   "metadata": {},
   "outputs": [],
   "source": [
    "capital_template = PromptTemplate(input_variables=[\"country\"], \n",
    "                              template=\"Tell me the capital of the {country}\")\n",
    "capital_chain = LLMChain(llm=llm,prompt=capital_template)\n",
    "\n",
    "famous_template=PromptTemplate(input_variables=[\"capital\"],\n",
    "                                template=\"Suggest me some amazing places to visit in {capital}\")\n",
    "famous_chain=LLMChain(llm=llm,prompt=famous_template)"
   ]
  },
  {
   "cell_type": "code",
   "execution_count": 12,
   "id": "06f8bad4-ee15-48f9-91be-1298fe0c1363",
   "metadata": {},
   "outputs": [],
   "source": [
    "from langchain.chains import SimpleSequentialChain"
   ]
  },
  {
   "cell_type": "code",
   "execution_count": 13,
   "id": "dbbd2619-dd5f-47a6-a1f7-9c35aeba3687",
   "metadata": {},
   "outputs": [],
   "source": [
    "chain=SimpleSequentialChain(chains=[capital_chain, famous_chain])"
   ]
  },
  {
   "cell_type": "code",
   "execution_count": 14,
   "id": "17c34bb6-123b-4e52-9370-eaa71435b44c",
   "metadata": {},
   "outputs": [
    {
     "data": {
      "text/plain": [
       "\" Some amazing places to visit in Addis Ababa are:\\n\\n1. National Museum of Ethiopia - This museum is home to some of the oldest and most important archaeological finds in the country, including the fossilized remains of Lucy, a 3.2 million-year-old hominid.\\n\\n2. Holy Trinity Cathedral - This beautiful cathedral is the highest-ranking Orthodox church in Ethiopia and is known for its stunning architecture and colorful stained glass windows.\\n\\n3. Entoto Hill - Located on the outskirts of Addis Ababa, Entoto Hill offers breathtaking views of the city and is home to the Entoto Maryam Church, a popular pilgrimage site.\\n\\n4. Mercato - This bustling open-air market is the largest in Africa and is a great place to shop for souvenirs, local crafts, and traditional Ethiopian goods.\\n\\n5. Addis Mercato - This modern shopping center offers a more upscale shopping experience with a variety of international and local brands.\\n\\n6. Ethnological Museum - Located within the former palace of Emperor Haile Selassie, this museum showcases the history, culture, and traditions of Ethiopia's diverse ethnic groups.\\n\\n7. Lake Tana - Located just outside of Addis Ababa, Lake Tana is the largest lake in Ethiopia and is known for its scenic\""
      ]
     },
     "execution_count": 14,
     "metadata": {},
     "output_type": "execute_result"
    }
   ],
   "source": [
    "chain.run(\"Ethiopia\")"
   ]
  },
  {
   "cell_type": "markdown",
   "id": "8dfc4031-2ead-4ae5-a588-a927634aee93",
   "metadata": {},
   "source": [
    "## Sequential Chain"
   ]
  },
  {
   "cell_type": "code",
   "execution_count": 15,
   "id": "8606342a-d4d7-4e36-b370-e6250213c810",
   "metadata": {},
   "outputs": [],
   "source": [
    "capital_sequential_template = PromptTemplate(input_variables=[\"country\"],\n",
    "                                          template=\"Tell me the capital of the country {country}\")\n",
    "capital_sequential_chain = LLMChain(llm=llm, prompt=capital_sequential_template,output_key=\"capital\")\n",
    "\n",
    "famous_sequential_template = PromptTemplate(input_variables=[\"capital\"], \n",
    "                                            template=\"Suggest me some amazing places to visit in {capital}\")\n",
    "famous_sequential_chain = LLMChain(llm=llm, prompt=famous_sequential_template,output_key=\"places\")"
   ]
  },
  {
   "cell_type": "code",
   "execution_count": 16,
   "id": "e80dc753-8107-44cb-81f9-61f6e35fded2",
   "metadata": {},
   "outputs": [],
   "source": [
    "from langchain.chains import SequentialChain\n",
    "sequential_chain=SequentialChain(chains=[capital_sequential_chain, famous_sequential_chain],\n",
    "                                input_variables=['country'],output_variables=['capital','places'])"
   ]
  },
  {
   "cell_type": "code",
   "execution_count": 17,
   "id": "10feb369-f2f4-4a25-8433-1d6d4f9c8d3d",
   "metadata": {},
   "outputs": [
    {
     "name": "stderr",
     "output_type": "stream",
     "text": [
      "/home/ablaze/miniconda3/envs/week_11_backend/lib/python3.11/site-packages/langchain_core/_api/deprecation.py:117: LangChainDeprecationWarning: The function `__call__` was deprecated in LangChain 0.1.0 and will be removed in 0.2.0. Use invoke instead.\n",
      "  warn_deprecated(\n"
     ]
    },
    {
     "data": {
      "text/plain": [
       "{'country': 'Ethiopia',\n",
       " 'capital': '\\n\\nThe capital of Ethiopia is Addis Ababa.',\n",
       " 'places': ' Here are some amazing places to visit in Addis Ababa:\\n\\n1. National Museum of Ethiopia - This museum houses a vast collection of artifacts and cultural relics, including the famous fossil of \"Lucy\", a 3.2 million-year-old hominid.\\n\\n2. Mount Entoto - Located just outside of Addis Ababa, this mountain offers stunning views of the city and is a popular spot for hiking and picnics.\\n\\n3. Holy Trinity Cathedral - This beautiful cathedral is one of the most important religious sites in Ethiopia and is known for its stunning architecture and intricate carvings.\\n\\n4. Merkato - As one of the largest open-air markets in Africa, Merkato is a must-visit for any shopper or food lover. You can find everything from traditional Ethiopian spices to handmade crafts here.\\n\\n5. Addis Mercato - This bustling market is the perfect place to experience the local culture and pick up some souvenirs. It\\'s also a great spot to try some authentic Ethiopian street food.\\n\\n6. Red Terror Martyrs\\' Memorial Museum - This museum pays tribute to the victims of the Red Terror, a period of political repression in Ethiopia. It\\'s a powerful and sobering experience.\\n\\n7. Ethnological Museum - Located on the grounds'}"
      ]
     },
     "execution_count": 17,
     "metadata": {},
     "output_type": "execute_result"
    }
   ],
   "source": [
    "sequential_chain({'country': 'Ethiopia'})"
   ]
  },
  {
   "cell_type": "markdown",
   "id": "96fb133c-6c44-4b49-a272-fc3d6d713b04",
   "metadata": {},
   "source": [
    "## Chatmodels with ChatOpenAI"
   ]
  },
  {
   "cell_type": "code",
   "execution_count": 18,
   "id": "72763c23-5585-4c4b-8a0e-272d936f8e93",
   "metadata": {},
   "outputs": [],
   "source": [
    "from langchain.chat_models import ChatOpenAI"
   ]
  },
  {
   "cell_type": "code",
   "execution_count": 19,
   "id": "96edc320-3ab0-4bf3-988b-ca3680a1e2ee",
   "metadata": {},
   "outputs": [],
   "source": [
    "from langchain.schema import HumanMessage,SystemMessage, AIMessage"
   ]
  },
  {
   "cell_type": "code",
   "execution_count": 26,
   "id": "f8dbb016-1b69-42a1-ab47-e62c872a629f",
   "metadata": {},
   "outputs": [],
   "source": [
    "chat_llm=ChatOpenAI(temperature=0.6, openai_api_key=OPENAI_API_KEY,model='gpt-3.5-turbo')"
   ]
  },
  {
   "cell_type": "code",
   "execution_count": 21,
   "id": "4f1bdd49-cbc4-4618-a1d1-3a7d3ad27b52",
   "metadata": {},
   "outputs": [
    {
     "name": "stderr",
     "output_type": "stream",
     "text": [
      "/home/ablaze/miniconda3/envs/week_11_backend/lib/python3.11/site-packages/langchain_core/_api/deprecation.py:117: LangChainDeprecationWarning: The function `__call__` was deprecated in LangChain 0.1.7 and will be removed in 0.2.0. Use invoke instead.\n",
      "  warn_deprecated(\n"
     ]
    },
    {
     "data": {
      "text/plain": [
       "AIMessage(content='Sure, here are some AI comedy punchlines for you:\\n\\n1. Why did the robot go to therapy? It had too many unresolved issues.\\n2. I asked my AI assistant to tell me a joke, and it replied, \"I can\\'t, I\\'m still debugging my sense of humor.\"\\n3. Why did the AI break up with its computer? It couldn\\'t handle its emotional baggage.\\n4. I told my AI to make me a sandwich, and it replied, \"Sure, but I\\'ll need your permission first.\"\\n5. I asked my AI to predict the future, and it said, \"I see a lot of software updates in your future.\"\\n\\nI hope these bring a smile to your face!')"
      ]
     },
     "execution_count": 21,
     "metadata": {},
     "output_type": "execute_result"
    }
   ],
   "source": [
    "chat_llm([\n",
    "    SystemMessage(content=\"you are a comedian AI assistant\"),\n",
    "    HumanMessage(content=\"Please provide some comedy puchlines on AI\")\n",
    "])"
   ]
  },
  {
   "cell_type": "markdown",
   "id": "0a581913-ca63-49ab-b804-c5c94b002ffa",
   "metadata": {},
   "source": [
    "## Prompt Template + LLM + Output Parser"
   ]
  },
  {
   "cell_type": "code",
   "execution_count": 22,
   "id": "dbf235f2-ba65-4223-bb60-8a81754cd427",
   "metadata": {},
   "outputs": [],
   "source": [
    "from langchain.prompts.chat import ChatPromptTemplate\n",
    "from langchain.schema import BaseOutputParser"
   ]
  },
  {
   "cell_type": "code",
   "execution_count": 23,
   "id": "fb8b1253-9fe3-4934-8e39-db9942fbddd4",
   "metadata": {},
   "outputs": [],
   "source": [
    "class CommaSeparatedoutput(BaseOutputParser):\n",
    "    def parse(self, text:str):\n",
    "        return text.strip().split(\",\")"
   ]
  },
  {
   "cell_type": "code",
   "execution_count": 24,
   "id": "4f9662a1-a653-457c-b036-76b55e196c13",
   "metadata": {},
   "outputs": [],
   "source": [
    "template=\"You are a helpful assistant, when the user gives any input, you should generate five-word synonyms in a comma-separated list\"\n",
    "human_template=\"{text}\"\n",
    "chat_prompt=ChatPromptTemplate.from_messages([\n",
    "    (\"system\", template),\n",
    "    (\"human\", human_template)\n",
    "])"
   ]
  },
  {
   "cell_type": "code",
   "execution_count": 27,
   "id": "76539b97-fa9a-401a-ad0c-742ca86d3641",
   "metadata": {},
   "outputs": [],
   "source": [
    "chain=chat_prompt|chat_llm|CommaSeparatedoutput()"
   ]
  },
  {
   "cell_type": "code",
   "execution_count": 29,
   "id": "7ece16e5-a990-429e-b452-4c1cd2cdb6be",
   "metadata": {},
   "outputs": [
    {
     "data": {
      "text/plain": [
       "['smart', ' clever', ' astute', ' sharp', ' brainy']"
      ]
     },
     "execution_count": 29,
     "metadata": {},
     "output_type": "execute_result"
    }
   ],
   "source": [
    "chain.invoke({\"text\":\"intellignet\"})"
   ]
  },
  {
   "cell_type": "code",
   "execution_count": null,
   "id": "850f3265-f01b-4d13-91f4-6dada53920a1",
   "metadata": {},
   "outputs": [],
   "source": []
  }
 ],
 "metadata": {
  "kernelspec": {
   "display_name": "Python 3 (ipykernel)",
   "language": "python",
   "name": "python3"
  },
  "language_info": {
   "codemirror_mode": {
    "name": "ipython",
    "version": 3
   },
   "file_extension": ".py",
   "mimetype": "text/x-python",
   "name": "python",
   "nbconvert_exporter": "python",
   "pygments_lexer": "ipython3",
   "version": "3.11.7"
  }
 },
 "nbformat": 4,
 "nbformat_minor": 5
}
