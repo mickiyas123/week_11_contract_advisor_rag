{
 "cells": [
  {
   "cell_type": "code",
   "execution_count": 11,
   "id": "2c888b58-e08b-4554-a27c-81531ae1ab7c",
   "metadata": {},
   "outputs": [],
   "source": [
    "from langchain.llms import OpenAI\n",
    "from dotenv import load_dotenv\n",
    "import os"
   ]
  },
  {
   "cell_type": "code",
   "execution_count": 16,
   "id": "35de62ef-3f4a-4e32-b69b-1d045c8c018d",
   "metadata": {},
   "outputs": [
    {
     "data": {
      "text/plain": [
       "'/home/ablaze/Desktop/10Academy/week_11_contract_advisor_rag/back-end/notebooks/notebooks/../../.env'"
      ]
     },
     "execution_count": 16,
     "metadata": {},
     "output_type": "execute_result"
    }
   ],
   "source": [
    "# Load environment variables from the .env file\n",
    "# current_file_path = os.path.abspath(__file__)\n",
    "# root_dir = os.path.abspath(os.path.join(os.path.dirname(__file__), '..', '..'))\n",
    "# load_dotenv(os.path.join(parent_dir, '.env'))\n",
    "# dotenv_path = find_dotenv()\n",
    "# load_dotenv(dotenv_path)\n",
    "current_directory = os.getcwd()\n",
    "env_path = os.path.join(notebook_folder, '..', '.env')"
   ]
  },
  {
   "cell_type": "code",
   "execution_count": 17,
   "id": "8615d369-a693-42e7-97bb-557d5b92c31d",
   "metadata": {},
   "outputs": [
    {
     "data": {
      "text/plain": [
       "False"
      ]
     },
     "execution_count": 17,
     "metadata": {},
     "output_type": "execute_result"
    }
   ],
   "source": [
    "load_dotenv(env_path)"
   ]
  },
  {
   "cell_type": "code",
   "execution_count": null,
   "id": "39d1945b-2a5b-4d33-a2ac-a04d494742fb",
   "metadata": {},
   "outputs": [],
   "source": []
  }
 ],
 "metadata": {
  "kernelspec": {
   "display_name": "Python 3 (ipykernel)",
   "language": "python",
   "name": "python3"
  },
  "language_info": {
   "codemirror_mode": {
    "name": "ipython",
    "version": 3
   },
   "file_extension": ".py",
   "mimetype": "text/x-python",
   "name": "python",
   "nbconvert_exporter": "python",
   "pygments_lexer": "ipython3",
   "version": "3.11.7"
  }
 },
 "nbformat": 4,
 "nbformat_minor": 5
}
