{
 "cells": [
  {
   "cell_type": "code",
   "execution_count": 1,
   "id": "df8309e5-3112-4b09-aa4c-57073937d883",
   "metadata": {},
   "outputs": [],
   "source": [
    "from langchain.vectorstores.cassandra import Cassandra\n",
    "from langchain.indexes.vectorstore import VectorStoreIndexWrapper\n",
    "from langchain.llms import OpenAI\n",
    "from langchain.embeddings import OpenAIEmbeddings\n",
    "\n",
    "import cassio"
   ]
  },
  {
   "cell_type": "code",
   "execution_count": 2,
   "id": "d8b1e2c5-588a-4683-aacd-0a4caffd0a98",
   "metadata": {},
   "outputs": [],
   "source": [
    "import cassandra\n",
    "from cassandra.cluster import Cluster\n",
    "from cassandra.auth import PlainTextAuthProvider\n",
    "import json"
   ]
  },
  {
   "cell_type": "code",
   "execution_count": 3,
   "id": "e4b75332-a79a-413f-a2d2-66e1d3de5e19",
   "metadata": {},
   "outputs": [],
   "source": [
    "from PyPDF2 import PdfReader"
   ]
  },
  {
   "cell_type": "code",
   "execution_count": 4,
   "id": "61b991ae-c40c-4fb1-8e63-bb9d5251eb19",
   "metadata": {},
   "outputs": [],
   "source": [
    "from dotenv import load_dotenv\n",
    "import os"
   ]
  },
  {
   "cell_type": "code",
   "execution_count": 5,
   "id": "05f7cf6a-c298-4b66-ba47-a7c5fc98e4a3",
   "metadata": {},
   "outputs": [],
   "source": [
    "current_directory = os.getcwd()\n",
    "env_path = os.path.abspath(os.path.join(current_directory, '..', '..', '.env'))"
   ]
  },
  {
   "cell_type": "code",
   "execution_count": 6,
   "id": "3adfe1a4-f732-4e68-9ebc-227cac23d521",
   "metadata": {},
   "outputs": [
    {
     "data": {
      "text/plain": [
       "True"
      ]
     },
     "execution_count": 6,
     "metadata": {},
     "output_type": "execute_result"
    }
   ],
   "source": [
    "load_dotenv(env_path)"
   ]
  },
  {
   "cell_type": "code",
   "execution_count": 7,
   "id": "58b23199-ce86-4715-bb92-a1c3fade4b89",
   "metadata": {},
   "outputs": [],
   "source": [
    "OPENAI_API_KEY=os.getenv(\"OPENAI_API_KEY\")\n",
    "ASTRA_DB_APPLICATION_TOKEN=os.getenv(\"ASTRA_DB_APPLICATION_TOKEN\")\n",
    "ASTRA_DB_ID=os.getenv(\"ASTRA_DB_ID\")\n",
    "ASTRA_DB_API_ENDPOINT=os.getenv(\"ASTRA_DB_API_ENDPOINT\")"
   ]
  },
  {
   "cell_type": "code",
   "execution_count": 8,
   "id": "d03f265d-1154-4c37-8cd5-9dd4c1111ba5",
   "metadata": {},
   "outputs": [],
   "source": [
    "pdfReader=PdfReader('Raptor Contract.docx.pdf')"
   ]
  },
  {
   "cell_type": "code",
   "execution_count": 9,
   "id": "64da0653-e343-469f-80ae-9d507116f291",
   "metadata": {},
   "outputs": [],
   "source": [
    "from typing_extensions import Concatenate"
   ]
  },
  {
   "cell_type": "code",
   "execution_count": 10,
   "id": "6b7ce656-cecb-4037-ae0d-0d323816725e",
   "metadata": {},
   "outputs": [],
   "source": [
    "from langchain_community.vectorstores import AstraDB\n",
    "from langchain.schema import Document"
   ]
  },
  {
   "cell_type": "code",
   "execution_count": 11,
   "id": "bafcc2c2-6bce-479e-b0c2-42fdb1c42af2",
   "metadata": {},
   "outputs": [],
   "source": [
    "raw_text =  ''\n",
    "for i, page in enumerate(pdfReader.pages):\n",
    "    content = page.extract_text()\n",
    "    if content:\n",
    "        raw_text += content"
   ]
  },
  {
   "cell_type": "code",
   "execution_count": 12,
   "id": "c7bd14a0-3c99-4507-8276-54a9b8550532",
   "metadata": {},
   "outputs": [],
   "source": [
    "# cassio.init(token=ASTRA_DB_APPLICATION_TOKEN, database_id=ASTRA_DB_ID)"
   ]
  },
  {
   "cell_type": "code",
   "execution_count": 13,
   "id": "b75a1f05-00a5-4748-a064-f4e4a6f81b8a",
   "metadata": {},
   "outputs": [
    {
     "name": "stderr",
     "output_type": "stream",
     "text": [
      "/home/ablaze/miniconda3/envs/week_11_backend/lib/python3.11/site-packages/langchain_core/_api/deprecation.py:117: LangChainDeprecationWarning: The class `langchain_community.llms.openai.OpenAI` was deprecated in langchain-community 0.0.10 and will be removed in 0.2.0. An updated version of the class exists in the langchain-openai package and should be used instead. To use it run `pip install -U langchain-openai` and import as `from langchain_openai import OpenAI`.\n",
      "  warn_deprecated(\n",
      "/home/ablaze/miniconda3/envs/week_11_backend/lib/python3.11/site-packages/langchain_core/_api/deprecation.py:117: LangChainDeprecationWarning: The class `langchain_community.embeddings.openai.OpenAIEmbeddings` was deprecated in langchain-community 0.1.0 and will be removed in 0.2.0. An updated version of the class exists in the langchain-openai package and should be used instead. To use it run `pip install -U langchain-openai` and import as `from langchain_openai import OpenAIEmbeddings`.\n",
      "  warn_deprecated(\n"
     ]
    }
   ],
   "source": [
    "llm=OpenAI(openai_api_key=OPENAI_API_KEY)\n",
    "embedding=OpenAIEmbeddings(openai_api_key=OPENAI_API_KEY)"
   ]
  },
  {
   "cell_type": "code",
   "execution_count": 16,
   "id": "efae469d-afac-4660-88fa-0be43c584630",
   "metadata": {},
   "outputs": [],
   "source": [
    "astra_vector_store = AstraDB(\n",
    "    embedding=embedding,\n",
    "    collection_name=\"test\",\n",
    "    token=ASTRA_DB_APPLICATION_TOKEN,\n",
    "    api_endpoint=ASTRA_DB_API_ENDPOINT,\n",
    ")"
   ]
  },
  {
   "cell_type": "code",
   "execution_count": 18,
   "id": "7228c5ce-184b-4ff8-b440-22d2280e00eb",
   "metadata": {},
   "outputs": [],
   "source": [
    "from langchain.text_splitter import CharacterTextSplitter"
   ]
  },
  {
   "cell_type": "code",
   "execution_count": 19,
   "id": "ca00823d-bd25-4996-afb3-a6fa6fa889c8",
   "metadata": {},
   "outputs": [],
   "source": [
    "text_splitter = CharacterTextSplitter(\n",
    "    separator = \"\\n\",\n",
    "    chunk_size = 800,\n",
    "    chunk_overlap = 200,\n",
    "    length_function = len,\n",
    ")\n",
    "texts = text_splitter.split_text(raw_text)"
   ]
  },
  {
   "cell_type": "code",
   "execution_count": 20,
   "id": "91b6f7d8-fed6-4059-a1f4-8e6246444e8d",
   "metadata": {},
   "outputs": [
    {
     "data": {
      "text/plain": [
       "['[R&G\\nDraft\\n12.__.2021]\\nSTOCK\\nPURCHASE\\nAGREEMENT\\nBY\\nAND\\nAMONG\\n[BUYER],\\n[TARGET\\nCOMP ANY],\\nTHE\\nSELLERS\\nLISTED\\nON\\nSCHEDULE\\nI\\nHERET O\\nAND\\nTHE\\nSELLERS’\\nREPRESENT ATIVE\\nNAMED\\nHEREIN\\nDated\\nas\\nof\\n[●]\\n[This\\ndocument\\nis\\nintended\\nsolely\\nto\\nfacilitate\\ndiscussions\\namong\\nthe\\nparties\\nidentified\\nherein. \\nNeither\\nthis\\ndocument\\nnor\\nsuch\\ndiscussions\\nare\\nintended\\nto\\ncreate,\\nnor\\nwill\\neither\\nor\\nboth\\nbe \\ndeemed\\nto\\ncreate,\\na\\nlegally\\nbinding\\nor\\nenforceable\\noffer\\nor\\nagreement\\nof\\nany\\ntype\\nor\\nnature, \\nunless\\nand\\nuntil\\na\\ndefinitive\\nwritten\\nagreement\\nis\\nexecuted\\nand\\ndelivered\\nby\\neach\\nof\\nthe\\nparties \\nhereto.\\nThis\\ndocument\\nshall\\nbe\\nkept\\nconfidential\\npursuant\\nto\\nthe\\nterms\\nof\\nthe\\nConfidentiality \\nAgreement\\nentered\\ninto\\nby\\nthe\\nparties\\nand,\\nif\\napplicable,\\nits\\naffiliates\\nwith\\nrespect\\nto\\nthe\\nsubject \\nmatter\\nhereof.]',\n",
       " 'document\\nshall\\nbe\\nkept\\nconfidential\\npursuant\\nto\\nthe\\nterms\\nof\\nthe\\nConfidentiality \\nAgreement\\nentered\\ninto\\nby\\nthe\\nparties\\nand,\\nif\\napplicable,\\nits\\naffiliates\\nwith\\nrespect\\nto\\nthe\\nsubject \\nmatter\\nhereof.]\\n112923184_5\\nTABLE\\nOF\\nCONTENTS\\nARTICLE\\nI\\nDEFINITIONS;\\nCER TAIN\\nRULES\\nOF\\nCONSTRUCTION\\n2\\nSection\\n1.01\\nDefinitions\\n2\\nSection\\n1.02\\nCertain\\nMatters\\nof\\nConstruction\\n13\\nARTICLE\\nII\\nPURCHASE\\nAND\\nSALE\\nOF\\nSHARES\\nAND\\nWARRANTS;\\nTREA TMENT \\nOF\\nOPTIONS;\\nCLOSING.\\n14\\nSection\\n2.01\\nPurchase\\nand\\nSale\\nof\\nShares\\n14\\nSection\\n2.02\\nPurchase\\nPrice\\n14\\nSection\\n2.03\\nThe\\nClosing\\n14\\nSection\\n2.04\\nClosing\\nPayments.\\n15\\nSection\\n2.05\\nClosing\\nDeliveries\\n15\\nSection\\n2.06\\nTreatment\\nof\\nOptions\\n16\\nSection\\n2.07\\nPurchase\\nPrice\\nAdjustment\\n17\\nSection\\n2.08\\nEscrow\\n19\\nARTICLE\\nIII\\nREPRESENT ATIONS\\nAND\\nWARRANTIES\\nREGARDING\\nTHE \\nACQUIRED',\n",
       " '2.05\\nClosing\\nDeliveries\\n15\\nSection\\n2.06\\nTreatment\\nof\\nOptions\\n16\\nSection\\n2.07\\nPurchase\\nPrice\\nAdjustment\\n17\\nSection\\n2.08\\nEscrow\\n19\\nARTICLE\\nIII\\nREPRESENT ATIONS\\nAND\\nWARRANTIES\\nREGARDING\\nTHE \\nACQUIRED\\nCOMP ANIES.\\n19\\nSection\\n3.01\\nOrganization\\n19\\nSection\\n3.02\\nPower\\nand\\nAuthorization\\n20\\nSection\\n3.03\\nAuthorization\\nof\\nGovernmental\\nAuthorities\\n20\\nSection\\n3.04\\nNoncontravention\\n20\\nSection\\n3.05\\nCapitalization\\nof\\nthe\\nAcquired\\nCompanies\\n21\\nSection\\n3.06\\nFinancial\\nMatters\\n22\\nSection\\n3.07\\nAbsence\\nof\\nCertain\\nDevelopments\\n22\\nSection\\n3.08\\nDebt;\\nGuarantees\\n24\\nSection\\n3.09\\nAssets\\n25\\nSection\\n3.10\\nReal\\nProperty\\n25\\nSection\\n3.11\\nIntellectual\\nProperty\\n26\\nSection\\n3.12\\nLegal\\nCompliance;\\nIllegal\\nPayments;\\nPermits\\n29\\nSection\\n3.13\\nTax\\nMatters\\n30\\nSection\\n3.14\\nEmployee\\nBenefit\\nPlans\\n32\\nSection\\n3.15\\nEnvironmental\\nMatters\\n33',\n",
       " '3.11\\nIntellectual\\nProperty\\n26\\nSection\\n3.12\\nLegal\\nCompliance;\\nIllegal\\nPayments;\\nPermits\\n29\\nSection\\n3.13\\nTax\\nMatters\\n30\\nSection\\n3.14\\nEmployee\\nBenefit\\nPlans\\n32\\nSection\\n3.15\\nEnvironmental\\nMatters\\n33\\nSection\\n3.16\\nContracts\\n34\\nSection\\n3.17\\nRelated\\nParty\\nTransactions\\n36\\nSection\\n3.18\\nCustomers\\nand\\nSuppliers\\n37\\n-\\n1\\n-\\n112923184_5Section\\n3.19\\nLabor\\nMatters\\n37\\nSection\\n3.20\\nLitigation;\\nGovernment\\nOrders\\n37\\nSection\\n3.21\\nInsurance\\n38\\nSection\\n3.22\\nNo\\nBrokers\\n38\\nSection\\n3.23\\nFull\\nDisclosure\\n38\\nARTICLE\\nIV\\nINDIVIDUAL\\nREPRESENT ATIONS\\nAND\\nWARRANTIES\\nOF\\nTHE \\nSELLERS.\\n38\\nSection\\n4.01\\nOrganization\\n39\\nSection\\n4.02\\nPower\\nand\\nAuthorization\\n39\\nSection\\n4.03\\nAuthorization\\nof\\nGovernmental\\nAuthorities\\n39\\nSection\\n4.04\\nNoncontravention\\n39\\nSection\\n4.05\\nTitle\\n39\\nSection\\n4.06\\nNo\\nBrokers\\n40\\nARTICLE\\nV\\nREPRESENT ATIONS\\nAND',\n",
       " 'Power\\nand\\nAuthorization\\n39\\nSection\\n4.03\\nAuthorization\\nof\\nGovernmental\\nAuthorities\\n39\\nSection\\n4.04\\nNoncontravention\\n39\\nSection\\n4.05\\nTitle\\n39\\nSection\\n4.06\\nNo\\nBrokers\\n40\\nARTICLE\\nV\\nREPRESENT ATIONS\\nAND\\nWARRANTIES\\nOF\\nTHE\\nBUYER.\\n40\\nSection\\n5.01\\nOrganization\\n40\\nSection\\n5.02\\nPower\\nand\\nAuthorization\\n40\\nSection\\n5.03\\nAuthorization\\nof\\nGovernmental\\nAuthorities\\n40\\nSection\\n5.04\\nNoncontravention\\n40\\nSection\\n5.05\\nNo\\nBrokers\\n41\\nARTICLE\\nVI\\nCOVENANTS\\nOF\\nTHE\\nPARTIES\\n41\\nSection\\n6.01\\nExpenses\\n41\\nSection\\n6.02\\nConfidentiality\\n41\\nSection\\n6.03\\nPublicity\\n42\\nSection\\n6.04\\nRelease.\\n42\\nSection\\n6.06\\nD&O\\nTail.\\n43\\nSection\\n6.07\\nFurther\\nAssurances\\n43\\nARTICLE\\nVII\\nTAX\\nMATTERS\\n43\\nSection\\n7.01\\nTax\\nSharing\\nAgreements\\n43\\nSection\\n7.02\\nCertain\\nTaxes\\nand\\nFees\\n43\\nSection\\n7.03\\nCooperation\\non\\nTax\\nMatters\\n44\\nARTICLE\\nVIII\\nSURVIVAL;\\nRECOURSE',\n",
       " 'Assurances\\n43\\nARTICLE\\nVII\\nTAX\\nMATTERS\\n43\\nSection\\n7.01\\nTax\\nSharing\\nAgreements\\n43\\nSection\\n7.02\\nCertain\\nTaxes\\nand\\nFees\\n43\\nSection\\n7.03\\nCooperation\\non\\nTax\\nMatters\\n44\\nARTICLE\\nVIII\\nSURVIVAL;\\nRECOURSE\\nLIMIT ATIONS\\n44\\nSection\\n8.01\\nSurvival\\n44\\nSection\\n8.02\\nRecourse\\nLimitations.\\n44\\nARTICLE\\nIX\\nMISCELLANEOUS\\n45\\nSection\\n9.01\\nNotices\\n45\\n-\\n2\\n-\\n112923184_5Section\\n9.02\\nSuccession\\nand\\nAssignment;\\nNo\\nThird-Party\\nBeneficiaries\\n46\\nSection\\n9.03\\nAmendments\\nand\\nWaivers\\n46\\nSection\\n9.04\\nProvisions\\nConcerning\\nthe\\nSellers’\\nRepresentative\\n47\\nSection\\n9.05\\nEntire\\nAgreement\\n48\\nSection\\n9.06\\nCounterparts;\\nFacsimile\\nSignature\\n48\\nSection\\n9.07\\nSeverability\\n49\\nSection\\n9.08\\nGoverning\\nLaw\\n49\\nSection\\n9.09\\nJurisdiction;\\nVenue;\\nService\\nof\\nProcess.\\n49\\nSection\\n9.10\\nSpecific\\nPerformance\\n50\\nSection\\n9.11\\nWaiver\\nof\\nJury\\nTrial\\n50\\nSection',\n",
       " '48\\nSection\\n9.07\\nSeverability\\n49\\nSection\\n9.08\\nGoverning\\nLaw\\n49\\nSection\\n9.09\\nJurisdiction;\\nVenue;\\nService\\nof\\nProcess.\\n49\\nSection\\n9.10\\nSpecific\\nPerformance\\n50\\nSection\\n9.11\\nWaiver\\nof\\nJury\\nTrial\\n50\\nSection\\n9.12\\nNo\\nRecourse\\n50\\n-\\n3\\n-\\n112923184_5EXHIBITS\\nEXHIBIT\\nA\\nAllocation\\nStatement\\nSCHEDULES\\nI\\nList\\nof\\nShareholders,\\nOptionholders\\nand\\nWarrantholders\\n-\\n4\\n-\\n112923184_5STOCK\\nPURCHASE\\nAGREEMENT\\nTHIS\\nSTOCK\\nPURCHASE\\nAGREEMENT\\n(this\\n“\\nAgreement\\n”)\\nis\\nmade\\nand\\nentered\\ninto \\nas\\nof\\n[●]\\nby\\nand\\namong\\n[PARENT],\\na\\n[●]\\ncorporation\\n(“\\nParent\\n”)],\\n[BUYER],\\na\\nDelaware \\ncorporation\\nand\\na\\nwholly\\nowned\\nsubsidiary\\nof\\nParent\\n(“\\nBuyer\\n”)\\n1\\n,\\n[TARGET\\nCOMP ANY],\\na \\nDelaware\\ncorporation\\n(the\\n“\\nCompany\\n”),\\neach\\nof\\nthe\\nholders\\nof\\noutstanding\\nshares\\nof\\ncapital \\nstock\\nof\\nthe\\nCompany\\nlisted\\non\\nSchedule I\\nhereto\\n(respectively ,',\n",
       " '(“\\nBuyer\\n”)\\n1\\n,\\n[TARGET\\nCOMP ANY],\\na \\nDelaware\\ncorporation\\n(the\\n“\\nCompany\\n”),\\neach\\nof\\nthe\\nholders\\nof\\noutstanding\\nshares\\nof\\ncapital \\nstock\\nof\\nthe\\nCompany\\nlisted\\non\\nSchedule I\\nhereto\\n(respectively ,\\nthe\\n“\\nShareholders\\n”\\nor\\nthe \\n“\\nSellers\\n”)\\n2\\n,\\nand\\n[●],\\nin\\n[his/her/its]\\ncapacity\\nas\\nthe\\nSellers’\\nRepresentative.\\n3\\nRECITALS\\nWHEREAS,\\nthe\\nShareholders\\nown\\nall\\nof\\nthe\\noutstanding\\nshares\\nof\\nCommon\\nStock,\\npar \\nvalue\\n$0.01\\nper\\nshare,\\nof\\nthe\\nCompany\\n(such\\ncommon\\nstock\\nbeing\\nreferred\\nto\\nherein\\nas\\nthe \\n“\\nCommon\\nStock\\n”\\nand\\nsuch\\noutstanding\\ncommon\\nshares\\nbeing\\nreferred\\nto\\nherein\\nas\\nthe\\n“\\nCommon \\nShares\\n”)\\nand\\nall\\nof\\nthe\\noutstanding\\nshares\\nof\\nPreferred\\nStock,\\npar\\nvalue\\n$0.01\\nper\\nshare,\\nof\\nthe \\nCompany\\n(such\\npreferred\\nstock\\nbeing\\nreferred\\nto\\nherein\\nas\\nthe\\n“\\nPreferred\\nStock\\n”\\nand\\nsuch \\noutstanding\\npreferred',\n",
       " 'all\\nof\\nthe\\noutstanding\\nshares\\nof\\nPreferred\\nStock,\\npar\\nvalue\\n$0.01\\nper\\nshare,\\nof\\nthe \\nCompany\\n(such\\npreferred\\nstock\\nbeing\\nreferred\\nto\\nherein\\nas\\nthe\\n“\\nPreferred\\nStock\\n”\\nand\\nsuch \\noutstanding\\npreferred\\nshares\\nbeing\\nreferred\\nto\\nherein\\nas\\nthe\\n“\\nSeries\\nA-1\\nPreferred\\nShares\\n”\\nor \\n“\\nSeries\\nA-2\\nPreferred\\nShares\\n”\\nand,\\ncollectively ,\\nthe\\n“\\nPreferred\\nShares\\n”\\nand,\\ncollectively\\nwith\\nthe \\nCommon\\nShares,\\nthe\\n“\\nShares\\n”);\\nWHEREAS,\\nthe\\nholders\\nof\\noutstanding\\noptions\\nand\\nwarrants\\nto\\npurchase\\ncapital\\nstock\\nof \\nthe\\nCompany\\n(the\\n“\\nOptionholders\\n”\\nand\\n“\\nWarrantholders\\n”,\\nrespectively)\\nown\\nall\\nof\\nthe\\nissued\\nand \\noutstanding\\noptions\\nand\\nwarrants\\nto\\nacquire\\nCommon\\nStock\\n(the\\n“\\nOptions\\n”\\nand\\n“\\nWarrants\\n”, \\nrespectively);\\nWHEREAS,\\nthe\\nShares,\\nOptions\\nand\\nWarrants\\n(collectively ,\\nthe\\n“\\nSecurities\\n”)\\ntogether',\n",
       " 'and \\noutstanding\\noptions\\nand\\nwarrants\\nto\\nacquire\\nCommon\\nStock\\n(the\\n“\\nOptions\\n”\\nand\\n“\\nWarrants\\n”, \\nrespectively);\\nWHEREAS,\\nthe\\nShares,\\nOptions\\nand\\nWarrants\\n(collectively ,\\nthe\\n“\\nSecurities\\n”)\\ntogether \\nconstitute\\nall\\nof\\nthe\\noutstanding\\nEquity\\nInterests\\n(as\\ndefined\\nbelow)\\nin\\nthe\\nCompany;\\nWHEREAS,\\nBuyer\\ndesires\\nto\\npurchase\\nfrom\\nthe\\nShareholders,\\nand\\nthe\\nShareholders \\ndesire\\nto\\nsell\\nto\\nBuyer ,\\nat\\nthe\\nClosing\\n(as\\ndefined\\nbelow)\\nall\\nof\\nthe\\nShares\\n4\\nupon\\nthe\\nterms\\nand \\nsubject\\nto\\nthe\\nconditions\\nset\\nforth\\nin\\nthis\\nAgreement;\\nand\\nWHEREAS,\\nthe\\nparties\\nfurther\\ndesire\\nthat\\nall\\nof\\nthe\\nOptions\\nand\\nWarrants\\nbe\\ncancelled\\nat \\nthe\\nClosing\\nand,\\nin\\nconsideration\\nof\\nsuch\\ncancellation,\\nthe\\nholders\\nof\\nVested\\nOptions\\nand \\nWarrants\\nshall\\nreceive\\nthe\\namounts\\nand\\nrights\\nprovided\\nfor\\nherein,\\nall\\nupon\\nthe\\nterms\\nand',\n",
       " 'be\\ncancelled\\nat \\nthe\\nClosing\\nand,\\nin\\nconsideration\\nof\\nsuch\\ncancellation,\\nthe\\nholders\\nof\\nVested\\nOptions\\nand \\nWarrants\\nshall\\nreceive\\nthe\\namounts\\nand\\nrights\\nprovided\\nfor\\nherein,\\nall\\nupon\\nthe\\nterms\\nand\\nsubject \\nto\\nthe\\nconditions\\nset\\nforth\\nin\\nthis\\nAgreement.\\n5\\n5\\nNote\\nto\\ndraft\\n:\\nTreatment\\nof\\noptions\\nto\\nbe\\ndiscussed.\\n4\\uf020\\nSellers\\nNTD\\n:\\nTreatment\\nof\\nthe\\noutstanding\\nWarrant\\nshould\\nbe\\nsimilar\\nto\\nthe\\ntreatment\\nof\\na\\nVested\\nOption\\nbut\\nwithout\\nthe\\nportion\\nof\\nthe\\nconsideration\\npayable\\nin\\nParent’s\\nequity\\n(i.e.,\\nto\\nbe\\nterminated\\nin\\nexchange\\nfor\\na\\ncash \\npayment).\\n3\\nNote\\nto\\ndraft:\\nAcquisition\\nstructure\\nis\\nsubject\\nto\\nongoing\\ndiligence\\nand\\nanalysis.\\n2\\nSellers\\nNTD\\n:\\nInclusion\\nof\\noption\\nand\\nwarrant\\nholders\\nas\\nparties\\nto\\nthe\\nAgreement\\nis\\nnot\\nwarranted.\\n(Vested \\noptionholders\\nand\\nwarrantholders\\nwill\\nexecute',\n",
       " 'subject\\nto\\nongoing\\ndiligence\\nand\\nanalysis.\\n2\\nSellers\\nNTD\\n:\\nInclusion\\nof\\noption\\nand\\nwarrant\\nholders\\nas\\nparties\\nto\\nthe\\nAgreement\\nis\\nnot\\nwarranted.\\n(Vested \\noptionholders\\nand\\nwarrantholders\\nwill\\nexecute\\noption\\\\warrants\\ncancellation\\nacknowledgments)\\n1\\nNote\\nto\\ndraft\\n:\\nBuyer\\nentity\\nto\\nbe\\nconfirmed.\\n112923184_5AGREEMENT\\nNOW\\nTHEREFORE,\\nin\\nconsideration\\nof\\nthe\\npremises\\nand\\nmutual\\npromises\\nherein\\nmade, \\nand\\nin\\nconsideration\\nof\\nthe\\nrepresentations,\\nwarranties\\nand\\ncovenants\\nherein\\ncontained,\\nthe \\nparties\\nto\\nthis\\nAgreement\\nhereby\\nagree\\nas\\nfollows:\\nARTICLE\\nI \\nDEFINITIONS;\\nCER TAIN\\nRULES\\nOF\\nCONSTRUCTION\\nSection\\nI.01\\nDefinitions\\n.\\nIn\\naddition\\nto\\nthe\\nother\\nterms\\ndefined\\nthroughout\\nthis \\nAgreement,\\nthe\\nfollowing\\nterms\\nshall\\nhave\\nthe\\nfollowing\\nmeanings\\nwhen\\nused\\nin\\nthis\\nAgreement:\\n[“\\nAccounting\\nPrinciples\\n”',\n",
       " 'I.01\\nDefinitions\\n.\\nIn\\naddition\\nto\\nthe\\nother\\nterms\\ndefined\\nthroughout\\nthis \\nAgreement,\\nthe\\nfollowing\\nterms\\nshall\\nhave\\nthe\\nfollowing\\nmeanings\\nwhen\\nused\\nin\\nthis\\nAgreement:\\n[“\\nAccounting\\nPrinciples\\n”\\nmeans\\nGAAP\\nas\\nin\\neffect\\non\\nthe\\nMost\\nRecent\\nBalance\\nSheet \\nDate\\nand,\\nto\\nthe\\nextent\\nconsistent\\nwith\\nGAAP ,\\nusing\\nthe\\nsame\\naccounting\\nmethods,\\nprinciples, \\npractices,\\nprocedures\\nand\\nestimation\\nmethodologies\\nas\\nthose\\nutilized\\nin\\nthe\\npreparation\\nof\\nthe \\nMost\\nRecent\\nBalance\\nSheet].\\n“\\nAcquired\\nCompanies\\n”\\nmeans,\\ncollectively ,\\nthe\\nCompany\\nand\\neach\\nof\\nits\\nSubsidiaries.\\n“\\nAction\\n”\\nmeans\\nany\\nclaim,\\naction,\\nsuit,\\nlitigation,\\nmediation,\\narbitration,\\nknown \\ninvestigation,\\nknown\\nopposition,\\ninterference,\\naudit,\\nassessment,\\nhearing,\\ncomplaint,\\ncharge, \\ndemand\\nor\\nother\\nlegal\\nproceeding\\n(whether\\nsounding\\nin',\n",
       " 'suit,\\nlitigation,\\nmediation,\\narbitration,\\nknown \\ninvestigation,\\nknown\\nopposition,\\ninterference,\\naudit,\\nassessment,\\nhearing,\\ncomplaint,\\ncharge, \\ndemand\\nor\\nother\\nlegal\\nproceeding\\n(whether\\nsounding\\nin\\ncontract,\\ntort\\nor\\notherwise,\\nwhether\\ncivil \\nor\\ncriminal\\nand\\nwhether\\nbrought\\nat\\nlaw\\nor\\nin\\nequity)\\nthat\\nis\\ncommenced,\\nbrought,\\nconducted, \\ntried\\nor\\nheard\\nby\\nor\\nbefore,\\nor\\notherwise\\ninvolving,\\nany\\nGovernmental\\nAuthority .\\n“\\nAffiliate\\n”\\nmeans,\\nwith\\nrespect\\nto\\nany\\nspecified\\nPerson,\\nany\\nother\\nPerson\\ndirectly\\nor \\nindirectly\\ncontrolling,\\ncontrolled\\nby,\\nor\\nunder\\ndirect\\nor\\nindirect\\ncommon\\ncontrol\\nwith\\nsuch \\nspecified\\nPerson.\\nFor\\npurposes\\nof\\nthe\\nforegoing,\\na\\nPerson\\nshall\\nbe\\ndeemed\\nto\\ncontrol\\na\\nspecified \\nPerson\\nif\\nsuch\\nPerson\\n(or\\na\\nFamily\\nMember\\nof\\nsuch\\nPerson)\\npossesses,\\ndirectly\\nor\\nindirectly ,\\nthe',\n",
       " 'specified\\nPerson.\\nFor\\npurposes\\nof\\nthe\\nforegoing,\\na\\nPerson\\nshall\\nbe\\ndeemed\\nto\\ncontrol\\na\\nspecified \\nPerson\\nif\\nsuch\\nPerson\\n(or\\na\\nFamily\\nMember\\nof\\nsuch\\nPerson)\\npossesses,\\ndirectly\\nor\\nindirectly ,\\nthe \\npower\\nto\\ndirect\\nor\\ncause\\nthe\\ndirection\\nof\\nthe\\nmanagement\\nand\\npolicies\\nof\\nsuch\\nspecified\\nPerson.\\n“\\nAncillary\\nAgreements\\n”\\nmeans\\nthe\\nEscrow\\nAgreement,\\nthe\\nOption\\nCancellation \\nAcknowledgments,\\nand\\n[and\\nthe\\nEmployment\\nAgreements].\\n“\\nAnti-Corruption\\nLaws\\n”\\nmeans\\nany\\napplicable\\nlaws,\\nregulations,\\nor\\norders\\nrelating\\nto \\nanti-bribery\\nor\\nanti-corruption\\n(governmental\\nor\\ncommercial),\\nincluding,\\nwithout\\nlimitation,\\nthe \\nU.S.\\nForeign\\nCorrupt\\nPractices\\nAct\\nof\\n1977\\n(as\\namended).\\n“\\nAnti-Money\\nLaundering\\nLaws\\n”\\nmeans\\nany\\napplicable\\nlaws,\\nregulations,\\nrules\\nor \\nguidelines\\nrelating\\nto\\nmoney\\nlaundering,\\nincluding,',\n",
       " 'the \\nU.S.\\nForeign\\nCorrupt\\nPractices\\nAct\\nof\\n1977\\n(as\\namended).\\n“\\nAnti-Money\\nLaundering\\nLaws\\n”\\nmeans\\nany\\napplicable\\nlaws,\\nregulations,\\nrules\\nor \\nguidelines\\nrelating\\nto\\nmoney\\nlaundering,\\nincluding,\\nwithout\\nlimitation,\\nfinancial\\nrecordkeeping \\nand\\nreporting\\nrequirements;\\nsuch\\nas,\\nwithout\\nlimitation,\\napplicable\\nIsraeli\\nlaw,\\nthe\\nU.S.\\nUniting \\nand\\nStrengthening\\nAmerica\\nby\\nProviding\\nAppropriate\\nTools\\nRequired\\nto\\nIntercept\\nand\\nObstruct \\nTerrorism\\nAct\\nof\\n2001,\\nPublic\\nLaw\\n107-56,\\nthe\\nU.S.\\nCurrency\\nand\\nForeign\\nTransaction \\nReporting\\nAct\\nof\\n1970\\n(as\\namended),\\nand\\nthe\\nU.S.\\nMoney\\nLaundering\\nControl\\nAct\\nof\\n1986\\n(as \\namended).\\n“\\nBusiness\\n”\\nmeans\\nthe\\nbusinesses\\nconducted\\nby\\nthe\\nAcquired\\nCompanies\\nas\\nof\\nthe\\ndate \\nhereof.\\n-\\n2\\n-\\n112923184_5“\\nBusiness\\nDay\\n”\\nmeans\\nany\\nday\\nother\\nthan\\na\\nFriday ,\\nSaturday\\nor\\na',\n",
       " 'of\\n1986\\n(as \\namended).\\n“\\nBusiness\\n”\\nmeans\\nthe\\nbusinesses\\nconducted\\nby\\nthe\\nAcquired\\nCompanies\\nas\\nof\\nthe\\ndate \\nhereof.\\n-\\n2\\n-\\n112923184_5“\\nBusiness\\nDay\\n”\\nmeans\\nany\\nday\\nother\\nthan\\na\\nFriday ,\\nSaturday\\nor\\na\\nSunday\\nor\\na\\nweekday \\non\\nwhich\\nbanks\\nin\\nSan\\nFrancisco,\\nCalifornia,\\nUSA\\nand\\nTel\\nAviv,\\nIsrael\\nare\\nauthorized\\nor\\nrequired \\nto\\nbe\\nclosed.\\n“\\nCARES\\nAct\\n”\\nmeans,\\ncollectively ,\\nthe\\nU.S.\\nCoronavirus\\nAid,\\nRelief,\\nand\\nEconomic \\nSecurity\\nAct\\nor\\nany\\nsimilar\\ncurrent\\nor\\nsuccessor\\napplicable\\nfederal,\\nstate,\\nor\\nlocal\\nLaw,\\nas\\nmay\\nbe \\namended,\\nincluding\\nany\\npresidential\\nmemoranda\\nor\\nexecutive\\norders,\\nrelating\\nto\\nthe\\nCOVID-19 \\npandemic,\\nas\\nwell\\nas\\nany\\napplicable\\nguidance\\n(including\\nwithout\\nlimitation,\\nIRS\\nNotice\\n2020-65, \\n2020-38\\nIRB\\nand\\nthe\\nPresidential\\nMemorandum\\non\\nDeferring\\nPayroll\\nTax\\nObligations\\nin\\nLight',\n",
       " 'COVID-19 \\npandemic,\\nas\\nwell\\nas\\nany\\napplicable\\nguidance\\n(including\\nwithout\\nlimitation,\\nIRS\\nNotice\\n2020-65, \\n2020-38\\nIRB\\nand\\nthe\\nPresidential\\nMemorandum\\non\\nDeferring\\nPayroll\\nTax\\nObligations\\nin\\nLight \\nof\\nthe\\nOngoing\\nCOVID-19\\nDisaster\\nissued\\non\\nAugust\\n8,\\n2020,\\nthe\\nConsolidated\\nAppropriations \\nAct,\\n2021,\\nthe\\nHealth\\nand\\nEconomic\\nRecovery\\nOmnibus\\nEmer gency\\nSolutions\\nAct\\nand\\nthe \\nHealth\\nEconomic\\nAssistance,\\nLiability ,\\nand\\nSchools\\nAct).\\n“\\nChange\\nof\\nControl\\nPayment\\n”\\nmeans\\n(a)\\nany\\nbonus,\\nunfunded\\nseverance\\nor\\nother \\npayment\\nor\\nother\\nform\\nof\\nCompensation\\nthat\\nis\\ncreated,\\naccelerated,\\naccrues\\nor\\nbecomes\\npayable \\nby\\nany\\nAcquired\\nCompany\\nto\\nany\\npresent\\nor\\nformer\\ndirector ,\\nstockholder ,\\nemployee,\\nconsultant \\nor\\nother\\nindividual\\nservice\\nprovider\\nthereof,\\nincluding\\npursuant\\nto\\nany\\nemployment\\nagreement,',\n",
       " 'payable \\nby\\nany\\nAcquired\\nCompany\\nto\\nany\\npresent\\nor\\nformer\\ndirector ,\\nstockholder ,\\nemployee,\\nconsultant \\nor\\nother\\nindividual\\nservice\\nprovider\\nthereof,\\nincluding\\npursuant\\nto\\nany\\nemployment\\nagreement, \\nbenefit\\nplan\\nor\\nany\\nother\\nContractual\\nObligation,\\nincluding\\nthe\\nemployer\\nportion\\nof\\nany\\nTaxes \\npayable\\non\\nor\\ntriggered\\nby\\nany\\nsuch\\npayment\\ncalculated\\nwithout\\nregard\\nto\\nany\\ndeferral\\navailable\\nunder\\nthe\\nCARES\\nAct\\n\\uf028\\nother\\nthan\\nany\\npayment\\nor\\nconsideration\\npayable\\nunder\\nthis\\nAgreement\\nor\\nany\\nAncillary\\nAgreement,\\nincluding\\nthe\\npayment\\nof\\nthe\\nRetention\\nAmount\\nor\\nEmployees\\nClosing\\nBonus\\nAmount),\\nbut\\nspecifically\\nexcluding\\nany\\nseverance\\nthat\\nbecomes\\npayable\\nas\\na\\nresult\\nof\\na\\nclaim\\nfor\\nconstructive\\ndismissal\\nor\\nbreach\\nof\\nContractual\\nObligation\\narising\\nout\\nof\\nthe\\nconduct\\nof\\nthe\\nAcquired\\nCompanies\\nor',\n",
       " 'specifically\\nexcluding\\nany\\nseverance\\nthat\\nbecomes\\npayable\\nas\\na\\nresult\\nof\\na\\nclaim\\nfor\\nconstructive\\ndismissal\\nor\\nbreach\\nof\\nContractual\\nObligation\\narising\\nout\\nof\\nthe\\nconduct\\nof\\nthe\\nAcquired\\nCompanies\\nor\\ntheir\\nrespective\\nofficers,\\nemployees\\nor\\nAffiliates\\nafter\\nClosing,\\nand\\n(b)\\nwithout\\nduplication\\nof\\nany\\nother\\namounts\\nincluded\\nwithin\\nthe\\ndefinition\\nof\\nSeller\\nTransaction\\nExpenses,\\nany\\nother\\npayment, \\nexpense\\nor\\nfee\\nthat\\naccrues\\nor\\nbecomes\\npayable\\nby\\nany\\nAcquired\\nCompany\\nto\\nany\\nGovernmental \\nAuthority\\nor\\nother\\nPerson\\nunder\\nany\\napplicable\\nLegal\\nRequirement\\nor\\nContractual\\nObligation, \\nincluding\\nin\\nconnection\\nwith\\nthe\\nmaking\\nof\\nany\\nfilings,\\nthe\\ngiving\\nof\\nany\\nnotices\\nor\\nthe\\nobtaining \\nof\\nany\\nconsents,\\nauthorizations\\nor\\napprovals,\\nin\\nthe\\ncase\\nof\\neach\\nof\\n(a)\\nand\\n(b),\\nas\\na\\nresult\\nof\\nthe \\nexecution\\nand',\n",
       " 'with\\nthe\\nmaking\\nof\\nany\\nfilings,\\nthe\\ngiving\\nof\\nany\\nnotices\\nor\\nthe\\nobtaining \\nof\\nany\\nconsents,\\nauthorizations\\nor\\napprovals,\\nin\\nthe\\ncase\\nof\\neach\\nof\\n(a)\\nand\\n(b),\\nas\\na\\nresult\\nof\\nthe \\nexecution\\nand\\ndelivery\\nof\\nthis\\nAgreement\\nor\\nthe\\nconsummation\\nof\\nthe\\nContemplated \\nTransactions.\\n“\\nClosing\\nCash\\nAmount\\n”\\nmeans\\nthe\\nsum\\nof\\nall\\ncash\\nand\\ncash\\nequivalents\\nof\\nthe\\nAcquired \\nCompanies\\nas\\nof\\nimmediately\\nprior\\nto\\nthe\\nClosing,\\nless\\n(without\\nduplication)\\nthe\\namount\\nof \\noutstanding\\nchecks\\nas\\nof\\nthe\\nClosing.\\n“\\nClosing\\nDebt\\nAmount\\n”\\nmeans\\nthe\\namount\\nof\\nDebt\\nof\\nthe\\nAcquired\\nCompanies \\n(disregarding\\nDebt\\nof\\nany\\nAcquired\\nCompany\\nto\\nanother\\nAcquired\\nCompany)\\nas\\nof\\nimmediately \\nprior\\nto\\nthe\\nClosing\\ndetermined\\nwithout\\ngiving\\neffect\\nto\\nany\\nreduction\\nto\\nsuch\\namount\\noccurring \\nas\\na\\nresult\\nof\\nthe\\nrepayment\\nof\\nDebt\\non\\nthe',\n",
       " 'Company\\nto\\nanother\\nAcquired\\nCompany)\\nas\\nof\\nimmediately \\nprior\\nto\\nthe\\nClosing\\ndetermined\\nwithout\\ngiving\\neffect\\nto\\nany\\nreduction\\nto\\nsuch\\namount\\noccurring \\nas\\na\\nresult\\nof\\nthe\\nrepayment\\nof\\nDebt\\non\\nthe\\nClosing\\nDate.\\n-\\n3\\n-\\n112923184_5“\\nClosing\\nCash\\nConsideration\\n”\\nmeans\\nan\\namount\\nequal\\nto\\n(i)\\n$50,000,000,\\nminus\\n(ii)\\nthe \\nEscrow\\nAmount,\\nminus\\n(iii)\\nthe\\nClosing\\nDebt\\nAmount,\\nplus\\n(iv)\\nthe\\nClosing\\nCash\\nAmount, \\nminus\\n(v)\\nthe\\nsum\\nof\\nall\\nSeller\\nTransaction\\nExpenses.\\n“\\nCode\\n”\\nmeans\\nthe\\nU.S.\\nInternal\\nRevenue\\nCode\\nof\\n1986.\\n“\\nCompany\\nIntellectual\\nProperty\\n”\\nmeans\\nall\\nIntellectual\\nProperty\\nowned\\nor\\npurported\\nto \\nbe\\nowned\\nby,\\nor\\nexclusively\\nlicensed\\nor\\npurported\\nto\\nbe\\nexclusively\\nlicensed\\nto,\\nany\\nAcquired \\nCompany .\\n“\\nCompany’ s\\nKnowledge\\n,”\\n“\\nKnowledge\\nof\\nthe\\nCompany\\n”\\nand\\nsimilar\\nformulations\\nmean \\nthat',\n",
       " 'to \\nbe\\nowned\\nby,\\nor\\nexclusively\\nlicensed\\nor\\npurported\\nto\\nbe\\nexclusively\\nlicensed\\nto,\\nany\\nAcquired \\nCompany .\\n“\\nCompany’ s\\nKnowledge\\n,”\\n“\\nKnowledge\\nof\\nthe\\nCompany\\n”\\nand\\nsimilar\\nformulations\\nmean \\nthat\\none\\nor\\nmore\\nof\\n[●],[●],[●],[●]\\nand\\n[●]\\nhad\\nactual\\nknowledge\\nof\\nsuch\\nfact\\nor\\nother\\nmatter \\nafter\\nreasonable\\ninvestigation\\nof\\nall\\nemployees\\nof\\nthe\\nAcquired\\nCompanies\\nreasonably\\nexpected \\nto\\nhave\\nactual\\nknowledge\\nof\\nsuch\\nfact\\nor\\nmatter .\\n“\\nCompany\\nSecurityholders\\n”\\nmeans,\\ncollectively ,\\nthe\\nCompany\\nShareholders\\nand\\nthe \\nholders\\nof\\nVested\\nOptions\\nand\\nWarrants.\\n“\\nCompensation\\n”\\nmeans,\\nwith\\nrespect\\nto\\nany\\nPerson,\\nall\\nsalaries,\\nconsulting\\nfees, \\ncompensation,\\nremuneration,\\ncommissions,\\nbonuses,\\nseparation\\npayments,\\nrights\\nor\\nbenefits\\nof \\nany\\nkind\\nor\\ncharacter\\nwhatsoever\\n(including\\nissuances\\nor\\ngrants',\n",
       " 'Person,\\nall\\nsalaries,\\nconsulting\\nfees, \\ncompensation,\\nremuneration,\\ncommissions,\\nbonuses,\\nseparation\\npayments,\\nrights\\nor\\nbenefits\\nof \\nany\\nkind\\nor\\ncharacter\\nwhatsoever\\n(including\\nissuances\\nor\\ngrants\\nof\\nEquity\\nInterests),\\nmade \\ndirectly\\nor\\nindirectly\\nby\\nan\\nAcquired\\nCompany\\nto\\nor\\nfor\\nthe\\nbenefit\\nof\\nsuch\\nPerson\\nor\\nany\\nFamily \\nMember\\nof\\nsuch\\nPerson,\\nas\\nconsideration\\nfor\\nservices\\nperformed\\nby\\nsuch\\nPerson\\nas\\nan\\nemployee \\nor\\ndependent\\nservice\\nprovider .\\n“\\nContemplated\\nTransactions\\n”\\nmeans\\nthe\\ntransactions\\ncontemplated\\nby\\nthis\\nAgreement, \\nincluding\\n(a)\\nthe\\npurchase\\nand\\nsale\\nof\\nthe\\nShares,\\nthe\\ncancellation\\nof\\nthe\\nOptions\\nand\\nWarrants \\nand\\nthe\\nother\\ntransactions\\ndescribed\\nin\\nthe\\nrecitals\\nto\\nthis\\nAgreement,\\n(b)\\nthe\\nexecution,\\ndelivery \\nand\\nperformance\\nof\\nthe\\nAncillary\\nAgreements\\nby\\nthe\\nAcquired',\n",
       " 'of\\nthe\\nOptions\\nand\\nWarrants \\nand\\nthe\\nother\\ntransactions\\ndescribed\\nin\\nthe\\nrecitals\\nto\\nthis\\nAgreement,\\n(b)\\nthe\\nexecution,\\ndelivery \\nand\\nperformance\\nof\\nthe\\nAncillary\\nAgreements\\nby\\nthe\\nAcquired\\nCompanies\\nand\\n(c)\\nthe\\npayment \\nof\\nfees\\nand\\nexpenses\\nby\\nthe\\nAcquired\\nCompanies\\nrelating\\nto\\nsuch\\ntransactions.\\n“\\nContractual\\nObligation\\n”\\nmeans,\\nwith\\nrespect\\nto\\nany\\nPerson,\\nany\\ncontract,\\nagreement, \\ncustom,\\npolicy ,\\ncollective\\nbargaining\\nagreement\\nor\\narrangement,\\ndeed,\\nmortgage,\\nlease,\\nsublease, \\nlicense,\\nsublicense\\nor\\nother\\ncommitment,\\npromise,\\nundertaking,\\nobligation,\\narrangement, \\ninstrument\\nor\\nunderstanding,\\nwhether\\nwritten\\nor\\noral,\\nto\\nwhich\\nor\\nby\\nwhich\\nsuch\\nPerson\\nis\\na\\nparty \\nor\\notherwise\\nsubject\\nor\\nbound\\nor\\nto\\nwhich\\nor\\nby\\nwhich\\nany\\nproperty ,\\nbusiness,\\noperation\\nor\\nright \\nof\\nsuch\\nPerson\\nis\\nsubject',\n",
       " 'whether\\nwritten\\nor\\noral,\\nto\\nwhich\\nor\\nby\\nwhich\\nsuch\\nPerson\\nis\\na\\nparty \\nor\\notherwise\\nsubject\\nor\\nbound\\nor\\nto\\nwhich\\nor\\nby\\nwhich\\nany\\nproperty ,\\nbusiness,\\noperation\\nor\\nright \\nof\\nsuch\\nPerson\\nis\\nsubject\\nor\\nbound.\\n“\\nDebt\\n”\\nmeans,\\nwith\\nrespect\\nto\\nany\\nPerson,\\nand\\nwithout\\nduplication,\\nall\\nLiabilities, \\nincluding\\nall\\nobligations\\nin\\nrespect\\nof\\nprincipal,\\naccrued\\ninterest,\\npenalties,\\nfees\\nand\\npremiums \\n(including,\\nfor\\nthe\\navoidance\\nof\\ndoubt,\\nany\\nsuch\\npenalties,\\nfees\\nand\\npremiums\\narising\\nfrom\\nthe \\nearly\\ntermination\\nof\\nsuch\\nDebt\\non\\nthe\\nClosing\\nDate),\\nof\\nsuch\\nPerson\\n(a) for\\nborrowed\\nmoney \\n(including\\namounts\\noutstanding\\nunder\\noverdraft\\nfacilities),\\n(b)\\nevidenced\\nby\\nnotes,\\nbonds, \\ndebentures\\nor\\nother\\nsimilar\\nContractual\\nObligations,\\n(c)\\nin\\nrespect\\nof\\nletters\\nof\\ncredit\\nand \\nbankers’\\nacceptances,\\n(d)\\nfor',\n",
       " 'outstanding\\nunder\\noverdraft\\nfacilities),\\n(b)\\nevidenced\\nby\\nnotes,\\nbonds, \\ndebentures\\nor\\nother\\nsimilar\\nContractual\\nObligations,\\n(c)\\nin\\nrespect\\nof\\nletters\\nof\\ncredit\\nand \\nbankers’\\nacceptances,\\n(d)\\nfor\\nContractual\\nObligations\\nrelating\\nto\\ninterest\\nrate\\nprotection,\\nswap \\nagreements\\nand\\ncollar\\nagreements,\\nin\\neach\\ncase,\\nto\\nthe\\nextent\\npayable\\nif\\nsuch\\nContractual \\nObligation\\nis\\nterminated\\nat\\nthe\\nClosing,\\nand\\n(e)\\nin\\nthe\\nnature\\nof\\nGuarantees\\nof,\\nor\\nliens\\non\\nassets\\n-\\n4\\n-\\n112923184_5of\\nsuch\\nPerson\\nto\\nsecure\\n(regardless\\nof\\nwhether\\nassumed\\nby\\nsuch\\nPerson),\\nthe\\nobligations \\ndescribed\\nin\\nclauses\\n(a)\\nthrough\\n(d)\\nabove\\nof\\nany\\nother\\nPerson\\nthat\\nis\\nnot\\nan\\nAcquired\\nCompany .\\n“\\nEmployee\\nPlan\\n”\\nmeans\\nany\\nplan,\\nprogram,\\npolicy ,\\nagreement,\\narrangement,\\npractice, \\nworkers’\\nbenefits\\nor\\nContractual\\nObligation,\\nwhether',\n",
       " 'above\\nof\\nany\\nother\\nPerson\\nthat\\nis\\nnot\\nan\\nAcquired\\nCompany .\\n“\\nEmployee\\nPlan\\n”\\nmeans\\nany\\nplan,\\nprogram,\\npolicy ,\\nagreement,\\narrangement,\\npractice, \\nworkers’\\nbenefits\\nor\\nContractual\\nObligation,\\nwhether\\nor\\nnot\\nreduced\\nto\\nwriting,\\nwhether\\nor\\nnot \\nsubject\\nto\\nERISA,\\nand\\nwhether\\ncovering\\na\\nsingle\\nindividual\\nor\\na\\ngroup\\nof\\nindividuals,\\nthat\\nis\\n(a) a \\nwelfare\\nplan\\nwithin\\nthe\\nmeaning\\nof\\nSection\\n3(1)\\nof\\nERISA,\\n(b) a\\npension\\nbenefit\\nplan\\nwithin\\nthe \\nmeaning\\nof\\nSection\\n3(2)\\nof\\nERISA\\nor\\na\\npension\\narrangement,\\ndisability\\nbenefit\\nand\\nany\\nother \\nprovident\\nfund\\n(including\\nstudy\\nfund),\\n(c) a\\nvacation\\nbenefit,\\na\\nstock\\nbonus,\\nstock\\npurchase, \\nstock\\noption,\\nrestricted\\nstock,\\nstock\\nappreciation\\nright\\nor\\nsimilar\\nequity-based\\nplan,\\nprogram, \\npolicy ,\\nagreement,\\narrangement,\\npractice,\\nworkers’\\nbenefits\\nor',\n",
       " 'a\\nstock\\nbonus,\\nstock\\npurchase, \\nstock\\noption,\\nrestricted\\nstock,\\nstock\\nappreciation\\nright\\nor\\nsimilar\\nequity-based\\nplan,\\nprogram, \\npolicy ,\\nagreement,\\narrangement,\\npractice,\\nworkers’\\nbenefits\\nor\\nContractual\\nObligation,\\nincluding \\nwithout\\nlimitation\\nthe\\nCompany\\nStock\\nPlans,\\nor\\n(d) a\\ndeferred-compensation,\\nretirement, \\ntermination\\npay,\\nseverance,\\nchange\\nin\\ncontrol,\\nretention,\\nwelfare-benefit,\\ntravel\\nand\\ncar\\nbenefits, \\nwork\\npermits,\\npaid\\ntime\\noff,\\nholiday ,\\nrecreation,\\nsickness\\nbenefits,\\nleave\\nof\\nabsence,\\nhealth\\nand \\nwelfare,\\ncafeteria,\\nsupplemental\\nretirement,\\nfringe\\nbenefit\\n,\\nemployee\\nloans,\\nsalary\\ncontinuation, \\nrelocation\\nbenefits,\\nchild/dependent\\ncare\\nbenefits,\\nsabbatical,\\nreimbursement,\\nbonus, \\nprofit-sharing,\\nincentive,\\ncommissions,\\npremiums,\\nroyalties,\\nperformance\\nawards,\\nstock',\n",
       " 'salary\\ncontinuation, \\nrelocation\\nbenefits,\\nchild/dependent\\ncare\\nbenefits,\\nsabbatical,\\nreimbursement,\\nbonus, \\nprofit-sharing,\\nincentive,\\ncommissions,\\npremiums,\\nroyalties,\\nperformance\\nawards,\\nstock\\noptions, \\nstock\\npurchase,\\nphantom\\nstock,\\nstock\\nappreciation,\\nemployment\\nor\\nconsulting\\nor\\nother \\ncompensation\\nor\\nbenefit\\nplan,\\nprogram,\\npolicy ,\\nagreement,\\narrangement,\\npractice,\\nworkers’ \\nbenefits\\nor\\nContractual\\nObligation.\\n“\\nEncumbrance\\n”\\nmeans\\nany\\ncharge,\\nclaim,\\ncommunity\\nor\\nother\\nmarital\\nproperty\\ninterest, \\nequitable\\nor\\nownership\\ninterest,\\nlien,\\nlicense,\\noption,\\npledge,\\nsecurity\\ninterest,\\nmortgage,\\ndeed\\nof \\ntrust,\\nright\\nof\\nway,\\neasement,\\nencroachment,\\nservitude,\\nright\\nof\\nfirst\\noffer\\nor\\nfirst\\nrefusal,\\nbuy/sell \\nagreement\\nand\\nany\\nother\\nrestriction\\nor\\ncovenant\\nwith\\nrespect\\nto,\\nor\\ncondition',\n",
       " 'deed\\nof \\ntrust,\\nright\\nof\\nway,\\neasement,\\nencroachment,\\nservitude,\\nright\\nof\\nfirst\\noffer\\nor\\nfirst\\nrefusal,\\nbuy/sell \\nagreement\\nand\\nany\\nother\\nrestriction\\nor\\ncovenant\\nwith\\nrespect\\nto,\\nor\\ncondition\\ngoverning\\nthe\\nuse, \\nconstruction,\\nvoting\\n(in\\nthe\\ncase\\nof\\nany\\nsecurity\\nor\\nEquity\\nInterest),\\ntransfer ,\\nreceipt\\nof\\nincome\\nor \\nexercise\\nof\\nany\\nother\\nattribute\\nof\\nownership\\n(other\\nthan,\\nin\\nthe\\ncase\\nof\\na\\nsecurity ,\\nany\\nrestriction \\non\\nthe\\ntransfer\\nof\\nsuch\\nsecurity\\narising\\nsolely\\nunder\\nfederal\\nand\\nstate\\nsecurities\\nlaws).\\n“\\nEnforceable\\n”\\nmeans,\\nwith\\nrespect\\nto\\nany\\nContractual\\nObligation\\nstated\\nto\\nbe\\nEnforceable \\nby\\nor\\nagainst\\nany\\nPerson,\\nthat\\nsuch\\nContractual\\nObligation\\nis\\na\\nlegal,\\nvalid\\nand\\nbinding\\nobligation \\nof\\nsuch\\nPerson\\nenforceable\\nby\\nor\\nagainst\\nsuch\\nPerson\\nin\\naccordance\\nwith\\nits\\nterms,\\nexcept\\nto\\nthe',\n",
       " 'by\\nor\\nagainst\\nany\\nPerson,\\nthat\\nsuch\\nContractual\\nObligation\\nis\\na\\nlegal,\\nvalid\\nand\\nbinding\\nobligation \\nof\\nsuch\\nPerson\\nenforceable\\nby\\nor\\nagainst\\nsuch\\nPerson\\nin\\naccordance\\nwith\\nits\\nterms,\\nexcept\\nto\\nthe \\nextent\\nthat\\nenforcement\\nof\\nthe\\nrights\\nand\\nremedies\\ncreated\\nthereby\\nis\\nsubject\\nto\\nbankruptcy , \\ninsolvency ,\\nreorganization,\\nmoratorium\\nand\\nother\\nsimilar\\nlaws\\nof\\ngeneral\\napplication\\naffecting \\nthe\\nrights\\nand\\nremedies\\nof\\ncreditors\\nand\\nto\\ngeneral\\nprinciples\\nof\\nequity\\n(regardless\\nof\\nwhether \\nenforceability\\nis\\nconsidered\\nin\\na\\nproceeding\\nin\\nequity\\nor\\nat\\nlaw).\\n“\\nEnvironmental\\nLaws\\n”\\nmeans\\nany\\nLegal\\nRequirement\\nrelating\\nto\\n(a) releases\\nor \\nthreatened\\nreleases\\nof\\nHazardous\\nSubstances,\\n(b) pollution\\nor\\nprotection\\nof\\npublic\\nhealth\\nor\\nthe \\nenvironment\\nor\\nworker\\nsafety\\nor\\nhealth\\nor\\n(c) the\\nmanufacture,',\n",
       " 'relating\\nto\\n(a) releases\\nor \\nthreatened\\nreleases\\nof\\nHazardous\\nSubstances,\\n(b) pollution\\nor\\nprotection\\nof\\npublic\\nhealth\\nor\\nthe \\nenvironment\\nor\\nworker\\nsafety\\nor\\nhealth\\nor\\n(c) the\\nmanufacture,\\nhandling,\\ntransport,\\nuse, \\ntreatment,\\nstorage,\\nor\\ndisposal\\nof\\nHazardous\\nSubstances.\\n“\\nEquity\\nInterest\\n”\\nmeans,\\nwith\\nrespect\\nto\\nany\\nPerson,\\n(a) any\\ncapital\\nstock,\\npartnership\\nor \\nmembership\\ninterest,\\nunit\\nof\\nparticipation\\nor\\nother\\nsimilar\\ninterest\\n(however\\ndesignated)\\nin\\nsuch \\nPerson\\nand\\n(b) any\\noption,\\nwarrant,\\npurchase\\nright,\\nconversion\\nright,\\nexchange\\nright\\nor\\nother \\nContractual\\nObligation\\nwhich\\nwould\\nentitle\\nany\\nother\\nPerson\\nto\\nacquire\\nany\\nsuch\\ninterest\\nin\\nsuch \\nPerson\\nor\\notherwise\\nentitle\\nany\\nother\\nPerson\\nto\\nshare\\nin\\nthe\\nequity ,\\nprofits,\\nearnings,\\nlosses\\nor\\n-\\n5\\n-\\n112923184_5gains\\nof\\nsuch\\nPerson',\n",
       " 'entitle\\nany\\nother\\nPerson\\nto\\nacquire\\nany\\nsuch\\ninterest\\nin\\nsuch \\nPerson\\nor\\notherwise\\nentitle\\nany\\nother\\nPerson\\nto\\nshare\\nin\\nthe\\nequity ,\\nprofits,\\nearnings,\\nlosses\\nor\\n-\\n5\\n-\\n112923184_5gains\\nof\\nsuch\\nPerson\\n(including\\nstock\\nappreciation,\\nphantom\\nstock,\\nprofit\\nparticipation\\nor\\nother \\nsimilar\\nrights).\\n“\\nEscrow\\nAmount\\n”\\nmeans,\\n$1,000,000\\n“\\nFacilities\\n”\\nmeans\\nany\\nbuildings,\\nplants,\\nimprovements\\nor\\nstructures\\nlocated\\non\\nthe\\nReal \\nProperty .\\n“\\nFamily\\nMember\\n”\\nmeans,\\nwith\\nrespect\\nto\\nany\\nindividual,\\n(a) such\\nPerson’ s\\nspouse,\\n(b) \\neach\\nparent,\\nbrother ,\\nsister\\nor\\nchild\\nof\\nsuch\\nPerson\\nor\\nsuch\\nPerson’ s\\nspouse,\\n(c) the\\nspouse\\nof\\nany \\nPerson\\ndescribed\\nin\\nclause\\n(b)\\nabove,\\n(d) each\\nchild\\nof\\nany\\nPerson\\ndescribed\\nin\\nclauses\\n(a),\\n(b)\\nor \\n(c)\\nabove,\\n(e) each\\ntrust\\ncreated\\nfor\\nthe\\nbenefit\\nof\\none\\nor\\nmore\\nof\\nthe',\n",
       " '(c) the\\nspouse\\nof\\nany \\nPerson\\ndescribed\\nin\\nclause\\n(b)\\nabove,\\n(d) each\\nchild\\nof\\nany\\nPerson\\ndescribed\\nin\\nclauses\\n(a),\\n(b)\\nor \\n(c)\\nabove,\\n(e) each\\ntrust\\ncreated\\nfor\\nthe\\nbenefit\\nof\\none\\nor\\nmore\\nof\\nthe\\nPersons\\ndescribed\\nin\\nclauses \\n(a)\\nthrough\\n(d)\\nabove\\nand\\n(f) each\\ncustodian\\nor\\nguardian\\nof\\nany\\nproperty\\nof\\none\\nor\\nmore\\nof\\nthe \\nPersons\\ndescribed\\nin\\nclauses\\n(a)\\nthrough\\n(e)\\nabove\\nin\\nhis\\nor\\nher\\ncapacity\\nas\\nsuch\\ncustodian\\nor \\nguardian.\\n“\\nFully-Diluted\\nCommon\\nShare\\nNumber\\n”\\nmeans\\nthe\\ntotal\\nnumber\\nof\\nissued\\nand \\noutstanding\\nshares\\nof\\nCommon\\nStock\\nimmediately\\nprior\\nto\\nthe\\ntime\\nof\\nthe\\nClosing\\nassuming\\nthe \\nexercise\\nin\\nfull\\nof\\nall\\nVested\\nOptions\\nand\\nWarrants\\nthat\\nare\\noutstanding\\nat\\nsuch\\ntime.\\n“\\nGAAP\\n”\\nmeans\\ngenerally\\naccepted\\naccounting\\nprinciples\\nin\\nthe\\nUnited\\nStates\\nas\\nin\\neffect \\nfrom\\ntime\\nto\\ntime.\\n“',\n",
       " 'exercise\\nin\\nfull\\nof\\nall\\nVested\\nOptions\\nand\\nWarrants\\nthat\\nare\\noutstanding\\nat\\nsuch\\ntime.\\n“\\nGAAP\\n”\\nmeans\\ngenerally\\naccepted\\naccounting\\nprinciples\\nin\\nthe\\nUnited\\nStates\\nas\\nin\\neffect \\nfrom\\ntime\\nto\\ntime.\\n“\\nGovernment\\nOrder\\n”\\nmeans\\nany\\norder ,\\nwrit,\\njudgment,\\ninjunction,\\ndecree,\\nstipulation, \\nruling,\\ndecision,\\nverdict,\\ndetermination\\nor\\naward\\nmade,\\nissued\\nor\\nentered\\nby\\nor\\nwith\\nany \\nGovernmental\\nAuthority .\\n“\\nGovernmental\\nAuthority\\n”\\nmeans\\nany\\nUnited\\nStates\\nfederal,\\nstate\\nor\\nlocal\\nor\\nany\\nIsraeli \\nor\\nforeign\\ngovernment,\\nor\\npolitical\\nsubdivision\\nthereof,\\nor\\nany\\nmultinational\\norganization\\nor \\nauthority ,\\nor\\nany\\nother\\nauthority ,\\nagency\\nor\\ncommission\\nentitled\\nto\\nexercise\\nany\\nadministrative, \\nexecutive,\\njudicial,\\nlegislative,\\npolice,\\nregulatory\\nor\\ntaxing\\nauthority\\nor\\npower ,\\nany\\ncourt\\nor \\ntribunal\\n(or',\n",
       " 'or\\nany\\nother\\nauthority ,\\nagency\\nor\\ncommission\\nentitled\\nto\\nexercise\\nany\\nadministrative, \\nexecutive,\\njudicial,\\nlegislative,\\npolice,\\nregulatory\\nor\\ntaxing\\nauthority\\nor\\npower ,\\nany\\ncourt\\nor \\ntribunal\\n(or\\nany\\ndepartment,\\nbureau\\nor\\ndivision\\nthereof),\\nor\\nany\\nmediator ,\\narbitrator\\nor\\narbitral \\nbody .\\n“\\nGovernmental\\nGrant\\n”\\nmeans\\nany\\ngrant,\\nincentive,\\nsubsidy ,\\naward,\\nparticipation, \\nexemption,\\nstatus,\\ncost\\nsharing\\narrangement,\\nreimbursement\\narrangement\\nor\\nother\\nbenefit,\\nrelief \\nor\\nprivilege\\nprovided\\nor\\nmade\\navailable\\nby\\nor\\non\\nbehalf\\nof\\nor\\nunder\\nthe\\nauthority\\nor\\nfunding\\nof \\nany\\nGovernmental\\nAuthority ,\\nincluding,\\nwithout\\nlimitation,\\nthe\\nIIA.\\n“\\nGuarantee\\n”\\nmeans,\\nwith\\nrespect\\nto\\nany\\nPerson,\\n(a) any\\nguarantee\\nof\\nthe\\npayment\\nor \\nperformance\\nof,\\nor\\nany\\ncontingent\\npayment\\nobligation\\nin\\nrespect\\nof,\\nany',\n",
       " 'including,\\nwithout\\nlimitation,\\nthe\\nIIA.\\n“\\nGuarantee\\n”\\nmeans,\\nwith\\nrespect\\nto\\nany\\nPerson,\\n(a) any\\nguarantee\\nof\\nthe\\npayment\\nor \\nperformance\\nof,\\nor\\nany\\ncontingent\\npayment\\nobligation\\nin\\nrespect\\nof,\\nany\\nDebt\\nor\\nother\\nLiability \\nof\\nany\\nother\\nPerson,\\n(b) any\\nother\\narrangement\\nwhereby\\ncredit\\nis\\nextended\\nto\\nany\\nobligor\\n(other \\nthan\\nsuch\\nPerson)\\non\\nthe\\nbasis\\nof\\nany\\npromise\\nor\\nundertaking\\nof\\nsuch\\nPerson\\n(i) to\\npay\\nthe\\nDebt \\nor\\nother\\nLiability\\nof\\nsuch\\nobligor ,\\n(ii) to\\npurchase\\nany\\nobligation\\nowed\\nby\\nsuch\\nobligor ,\\n(iii) to \\npurchase\\nor\\nlease\\nassets\\nunder\\ncircumstances\\nthat\\nare\\ndesigned\\nto\\nenable\\nsuch\\nobligor\\nto \\ndischar ge\\none\\nor\\nmore\\nof\\nits\\nobligations\\nor\\n(iv) to\\nmaintain\\nthe\\ncapital,\\nworking\\ncapital,\\nsolvency \\nor\\ngeneral\\nfinancial\\ncondition\\nof\\nsuch\\nobligor\\nand\\n(c) any\\nliability\\nas\\na\\ngeneral\\npartner',\n",
       " 'to \\ndischar ge\\none\\nor\\nmore\\nof\\nits\\nobligations\\nor\\n(iv) to\\nmaintain\\nthe\\ncapital,\\nworking\\ncapital,\\nsolvency \\nor\\ngeneral\\nfinancial\\ncondition\\nof\\nsuch\\nobligor\\nand\\n(c) any\\nliability\\nas\\na\\ngeneral\\npartner\\nof\\na\\n-\\n6\\n-\\n112923184_5partnership\\nor\\nas\\na\\nventurer\\nin\\na\\njoint\\nventure\\nin\\nrespect\\nof\\nDebt\\nor\\nother\\nLiabilities\\nof\\nsuch \\npartnership\\nor\\nventure.\\n“\\nHandling\\n”\\nmeans\\nany\\noperations\\nor\\nset\\nof\\noperations\\nwhich\\nis\\nperformed\\non\\nPersonal \\nInformation,\\nwhether\\nor\\nnot\\nby\\nautomated\\nmeans,\\nsuch\\nas\\nthe\\nreceipt,\\naccess,\\nacquisition, \\ncollection,\\nrecording,\\norganization,\\ncompilation,\\nuse,\\nconsultation,\\nstorage,\\nstructuring, \\nadaptation\\nor\\nalteration,\\nprocessing,\\ntransmission,\\nsafeguarding,\\nsecurity ,\\nretrieval,\\ndisposal, \\ndestruction,\\ndisclosure,\\nsale,\\nlicensing,\\nrental,\\nor\\ntransfer\\nof\\ninformation.\\n“\\nHazardous',\n",
       " 'adaptation\\nor\\nalteration,\\nprocessing,\\ntransmission,\\nsafeguarding,\\nsecurity ,\\nretrieval,\\ndisposal, \\ndestruction,\\ndisclosure,\\nsale,\\nlicensing,\\nrental,\\nor\\ntransfer\\nof\\ninformation.\\n“\\nHazardous\\nSubstance\\n”\\nmeans\\nany\\nmaterial\\nor\\nsubstance\\ndefined\\nor\\nregulated\\nas\\na \\nhazardous\\nor\\ntoxic\\nsubstance,\\nmaterial\\nor\\nwaste\\nor\\nas\\na\\npollutant\\nor\\ncontaminant,\\nor\\nwords\\nof \\nsimilar\\nintent\\nor\\nmeaning,\\npursuant\\nto\\nany\\nEnvironmental\\nLaws,\\nor\\nfor\\nwhich\\nstandards\\nof \\nconduct\\nor\\nliability\\nmay\\nbe\\nimposed\\nunder\\nEnvironmental\\nLaws\\ndue\\nto\\nits\\nhazardous,\\ntoxic, \\ndangerous\\nor\\ndeleterious\\nproperties\\nor\\ncharacteristics.\\n“\\nIIA\\n”\\nmeans\\nthe\\nIsraeli\\nInnovation\\nAuthority\\n(formerly\\nreferred\\nto\\nas\\nthe\\nOffice\\nof\\nthe \\nChief\\nScientist)\\nof\\nthe\\nIsraeli\\nMinistry\\nof\\nEconomy .\\n“\\nIncome\\nTax\\n”\\nmeans\\nany\\nTax\\nmeasured\\nby,\\nimposed\\non\\nor',\n",
       " '“\\nIIA\\n”\\nmeans\\nthe\\nIsraeli\\nInnovation\\nAuthority\\n(formerly\\nreferred\\nto\\nas\\nthe\\nOffice\\nof\\nthe \\nChief\\nScientist)\\nof\\nthe\\nIsraeli\\nMinistry\\nof\\nEconomy .\\n“\\nIncome\\nTax\\n”\\nmeans\\nany\\nTax\\nmeasured\\nby,\\nimposed\\non\\nor\\ncalculated\\nby\\nreference\\nto\\nnet \\nor\\ngross\\nincome\\nor\\nprofits,\\nincluding\\nany\\nfranchise,\\nmargin\\nor\\nsimilar\\nTax\\n(and\\nany\\nwithholding \\nTax\\nwith\\nrespect\\nthereto),\\nincluding\\nany\\ninterest,\\npenalty\\nor\\naddition\\nthereto.\\n“\\nIntellectual\\nProperty\\n”\\nmeans\\nall\\nrights,\\ntitle,\\nand\\ninterests\\nin\\nand\\nto\\nall\\nintellectual \\nproperty\\nrights\\nof\\nevery\\nkind\\nand\\nnature\\nhowever\\ndenominated,\\nthroughout\\nthe\\nworld,\\nincluding: \\n(a)\\npatents,\\ncopyrights,\\nmask\\nwork\\nrights,\\nconfidential\\ninformation,\\ntrade\\nsecrets,\\ndatabase\\nrights, \\nand\\nall\\nother\\nproprietary\\nrights\\nin\\nTechnology;\\n(b)\\ntrademarks,\\ntrade\\nnames,\\nservice\\nmarks,',\n",
       " '(a)\\npatents,\\ncopyrights,\\nmask\\nwork\\nrights,\\nconfidential\\ninformation,\\ntrade\\nsecrets,\\ndatabase\\nrights, \\nand\\nall\\nother\\nproprietary\\nrights\\nin\\nTechnology;\\n(b)\\ntrademarks,\\ntrade\\nnames,\\nservice\\nmarks, \\nbrands,\\ntrade\\ndress\\nand\\nlogos,\\nand\\nthe\\ngoodwill\\nand\\nactivities\\nassociated\\ntherewith;\\n(c)\\ndomain \\nnames\\nand\\nsocial\\nmedia\\naccounts\\nand\\nhandles;\\n(d)\\nrights\\nof\\npublicity\\nand\\nmoral\\nrights;\\nand\\n(e) \\nany\\nand\\nall\\nregistrations,\\napplications,\\nrecordings,\\nlicenses,\\ncommon-law\\nrights,\\nstatutory\\nrights, \\nadministrative\\nrights,\\nand\\ncontractual\\nrights\\nrelating\\nto\\nany\\nof\\nthe\\nforegoing.\\n“\\nITA\\n”\\nmeans\\nthe\\nIsraeli\\nTax\\nAuthority .\\n“\\nLegal\\nRequirement\\n”\\nmeans\\nany\\nfederal,\\nstate\\nor\\nlocal\\nor\\nany\\nforeign\\nlaw\\n(including \\nIsraeli\\nlaw),\\nstatute,\\nlegislation,\\ncase\\nlaw,\\nordinance,\\norder ,\\nextension\\norders,\\ncode,\\nrule,',\n",
       " 'Tax\\nAuthority .\\n“\\nLegal\\nRequirement\\n”\\nmeans\\nany\\nfederal,\\nstate\\nor\\nlocal\\nor\\nany\\nforeign\\nlaw\\n(including \\nIsraeli\\nlaw),\\nstatute,\\nlegislation,\\ncase\\nlaw,\\nordinance,\\norder ,\\nextension\\norders,\\ncode,\\nrule, \\nregulation,\\nor\\npromulgation,\\nor\\nany\\nGovernment\\nOrder ,\\nor\\nany\\nPermit\\ngranted\\nunder\\nany\\nof\\nthe \\nforegoing,\\nor\\nany\\nsimilar\\nprovision\\nhaving\\nthe\\nforce\\nor\\neffect\\nof\\nlaw.\\n“\\nLiability\\n”\\nmeans,\\nwith\\nrespect\\nto\\nany\\nPerson,\\nany\\nliability\\nor\\nobligation\\nof\\nsuch\\nPerson \\nwhether\\nknown\\nor\\nunknown,\\nwhether\\nasserted\\nor\\nunasserted,\\nwhether\\ndetermined,\\ndeterminable \\nor\\notherwise,\\nwhether\\nabsolute\\nor\\ncontingent,\\nwhether\\naccrued\\nor\\nunaccrued,\\nwhether\\nliquidated \\nor\\nunliquidated,\\nwhether\\ndirectly\\nincurred\\nor\\nconsequential,\\nwhether\\ndue\\nor\\nto\\nbecome\\ndue\\nand \\nwhether\\nor\\nnot\\nrequired\\nunder\\nGAAP\\nto\\nbe\\naccrued\\non\\nthe',\n",
       " 'whether\\naccrued\\nor\\nunaccrued,\\nwhether\\nliquidated \\nor\\nunliquidated,\\nwhether\\ndirectly\\nincurred\\nor\\nconsequential,\\nwhether\\ndue\\nor\\nto\\nbecome\\ndue\\nand \\nwhether\\nor\\nnot\\nrequired\\nunder\\nGAAP\\nto\\nbe\\naccrued\\non\\nthe\\nfinancial\\nstatements\\nof\\nsuch\\nPerson.\\n“\\nMaterial\\nAdverse\\nEffect\\n”\\nmeans\\nany\\nevent,\\nchange,\\nfact,\\ncondition,\\ncircumstance\\nor \\noccurrence\\nthat,\\nwhen\\nconsidered\\neither\\nindividually\\nor\\nin\\nthe\\naggregate\\ntogether\\nwith\\nall\\nother \\nadverse\\nevents,\\nchanges,\\nfacts,\\nconditions,\\ncircumstances\\nor\\noccurrences\\nwith\\nrespect\\nto\\nwhich \\nsuch\\nphrase\\nis\\nused\\nin\\nthis\\nAgreement,\\nhas\\nhad\\nor\\nwould\\nreasonably\\nbe\\nexpected\\nto\\nhave\\na\\n-\\n7\\n-\\n112923184_5material\\nadverse\\neffect\\non\\nthe\\nbusiness,\\noperations,\\nresults\\nof\\noperations,\\nproperties,\\nassets\\nor \\ncondition\\n(financial\\nor\\notherwise)\\nof\\nthe\\nAcquired\\nCompanies,\\ntaken\\nas\\na',\n",
       " 'to\\nhave\\na\\n-\\n7\\n-\\n112923184_5material\\nadverse\\neffect\\non\\nthe\\nbusiness,\\noperations,\\nresults\\nof\\noperations,\\nproperties,\\nassets\\nor \\ncondition\\n(financial\\nor\\notherwise)\\nof\\nthe\\nAcquired\\nCompanies,\\ntaken\\nas\\na\\nwhole,\\nother\\nthan\\nthe \\nfollowing:\\n(i)\\nevents,\\nchanges,\\nfacts,\\nconditions,\\ncircumstances\\nor\\noccurrences\\ngenerally \\naffecting\\nthe\\nUnited\\nStates\\nor\\nIsraeli\\neconomy\\nor\\nother\\nmarkets\\nor\\nindustries\\nin\\nwhich\\nthe \\nAcquired\\nCompanies\\noperate,\\nor\\nthe\\nUnited\\nStates\\nor\\nIsraeli\\ndebt,\\ncredit\\nor\\nsecurities\\nmarkets \\n(including\\nany\\ndecline\\nin\\nthe\\nprice\\nof\\nany\\nsecurity\\nor\\nany\\nmarket\\nindex)\\nbut\\nonly\\nto\\nthe\\nextent\\nthat \\nsuch\\nevents,\\nchanges,\\nfacts,\\nconditions,\\ncircumstances\\nor\\noccurrences\\ndo\\nnot\\nhave\\na\\nmaterially \\ndisproportionate\\neffect\\non\\nthe\\nAcquired\\nCompanies\\nas\\ncompared\\nto\\nother\\nparticipants\\nin\\nthe \\nindustry',\n",
       " 'such\\nevents,\\nchanges,\\nfacts,\\nconditions,\\ncircumstances\\nor\\noccurrences\\ndo\\nnot\\nhave\\na\\nmaterially \\ndisproportionate\\neffect\\non\\nthe\\nAcquired\\nCompanies\\nas\\ncompared\\nto\\nother\\nparticipants\\nin\\nthe \\nindustry\\nreferred\\nto\\nin\\nthis\\nclause\\n(i),\\n(ii)\\nany\\noutbreak\\nor\\nescalation\\nof\\nhostilities\\nor\\ndeclared\\nor \\nundeclared\\nacts\\nof\\nwar\\nor\\nacts\\nof\\nterrorism,\\nriots,\\ncivil\\nunrest,\\npolitical\\ninstability ,\\nepidemic, \\npandemic\\n(including\\nCOVID-19)\\nor\\nother\\nnational\\ncalamity ,\\ncrisis\\nor\\nemer gency\\nor\\nany \\ngovernmental\\nresponse\\nto\\nany\\nof\\nthe\\nforegoing,\\n(iii)\\nchanges\\nor\\nproposed\\nchanges\\nin\\nLegal \\nRequirements,\\n(iv)\\nchanges\\nor\\nproposed\\nchanges\\nin\\nGAAP\\n(or\\ninterpretations\\nthereof),\\n(v) \\nevents,\\nchanges,\\nfacts,\\nconditions,\\ncircumstances\\nor\\noccurrences\\nresulting\\nfrom\\nactions\\ntaken\\nby \\nany\\nAcquired\\nCompany\\nwhich\\nBuyer\\nhas',\n",
       " 'or\\nproposed\\nchanges\\nin\\nGAAP\\n(or\\ninterpretations\\nthereof),\\n(v) \\nevents,\\nchanges,\\nfacts,\\nconditions,\\ncircumstances\\nor\\noccurrences\\nresulting\\nfrom\\nactions\\ntaken\\nby \\nany\\nAcquired\\nCompany\\nwhich\\nBuyer\\nhas\\nexpressly\\nrequested\\nin\\nwriting\\nor\\nto\\nwhich\\nBuyer\\nhas \\nexpressly\\nconsented\\nin\\nwriting;\\n(vi)\\nany\\nfailure\\nof\\nthe\\nAcquired\\nCompanies\\nto\\nmeet\\nprojections, \\nforecasts\\nor\\nrevenue\\nor\\nearning\\npredictions\\nfor\\nany\\nperiod\\n(provided\\nthat\\nthe\\nunderlying\\ncauses\\nof \\nsuch\\nfailure\\nmay,\\nto\\nthe\\nextent\\napplicable,\\nbe\\nconsidered\\nin\\ndetermining\\nwhether\\nthere\\nhas\\nbeen, \\nor\\nis\\nreasonably\\nbe\\nexpected\\nto\\nbe,\\na\\nMaterial\\nAdverse\\nEffect),\\nor\\n(vii)\\nevents,\\nchanges,\\nfacts, \\nconditions,\\ncircumstances\\nor\\noccurrences\\nresulting\\nfrom\\nthe\\nannouncement,\\npendency\\nor\\nthe \\nexistence\\nof,\\nor\\ncompliance\\n(other\\nthan\\ncompliance\\nwith\\nthe',\n",
       " 'Effect),\\nor\\n(vii)\\nevents,\\nchanges,\\nfacts, \\nconditions,\\ncircumstances\\nor\\noccurrences\\nresulting\\nfrom\\nthe\\nannouncement,\\npendency\\nor\\nthe \\nexistence\\nof,\\nor\\ncompliance\\n(other\\nthan\\ncompliance\\nwith\\nthe\\nobligation\\nto\\noperate\\nin\\nthe\\nOrdinary \\nCourse\\nof\\nBusiness)\\nwith,\\nthis\\nAgreement\\nand\\nthe\\nContemplated\\nTransactions\\n(provided\\nthat\\nthis \\nclause\\n(viii)\\nshall\\nnot\\ndiminish\\nthe\\neffect\\nof,\\nand\\nshall\\nbe\\ndisregarded\\nfor\\npurposes\\nof,\\nthe \\nrepresentations\\nand\\nwarranties\\ncontained\\nin\\nSections\\n3.03\\n,\\n3.04\\n,\\n4.03\\nand\\n4.04\\nand\\nany\\nother \\nrepresentations\\nand\\nwarranties\\nrelating\\nto\\nrequired\\nconsents\\nor\\napprovals,\\nchange\\nin\\ncontrol \\nprovisions\\nor\\nsimilar\\nprovisions\\ngranting\\nrights\\nof\\nacceleration,\\ntermination,\\nmodification\\nor \\nwaiver\\nbased\\nupon\\nthe\\nentering\\ninto\\nof\\nthis\\nAgreement\\nor\\nthe\\nconsummation\\nof\\nthe',\n",
       " 'change\\nin\\ncontrol \\nprovisions\\nor\\nsimilar\\nprovisions\\ngranting\\nrights\\nof\\nacceleration,\\ntermination,\\nmodification\\nor \\nwaiver\\nbased\\nupon\\nthe\\nentering\\ninto\\nof\\nthis\\nAgreement\\nor\\nthe\\nconsummation\\nof\\nthe\\nContemplated \\nTransactions).\\n“\\nOff-the-Shelf\\nSoftware\\n”\\nmeans\\ngenerally\\navailable\\ncommercial\\nsoftware\\nobtained\\nfrom \\na\\nthird\\nparty\\non\\ngeneral\\ncommercial\\nterms\\nthat\\n(i)\\ncontinues\\nto\\nbe\\nwidely\\navailable\\non\\nsuch \\ncommercial\\nterms\\nas\\nof\\nthe\\nClosing\\nDate,\\n(ii)\\ninvolves\\nlicense,\\nmaintenance,\\nsupport,\\nand\\nother \\nfees\\nless\\nthan\\n$[●]\\nper\\nyear\\nin\\nthe\\naggregate,\\n(iii)\\nis\\nnot\\nmaterial\\nto\\nthe\\nBusiness,\\n(iv)\\nis\\nnot \\ndistributed\\nwith,\\nincorporated\\nin,\\nor\\nnecessary\\nfor\\nuse\\nof,\\nany\\nproduct\\nor\\nservice\\nof\\nan\\nAcquired \\nCompany ,\\nand\\n(v)\\nis\\nnot\\nOpen\\nSource\\nSoftware.\\n“\\nOpen\\nSource\\nSoftware\\n”\\nmeans\\nany\\nsoftware\\nthat\\nis',\n",
       " 'distributed\\nwith,\\nincorporated\\nin,\\nor\\nnecessary\\nfor\\nuse\\nof,\\nany\\nproduct\\nor\\nservice\\nof\\nan\\nAcquired \\nCompany ,\\nand\\n(v)\\nis\\nnot\\nOpen\\nSource\\nSoftware.\\n“\\nOpen\\nSource\\nSoftware\\n”\\nmeans\\nany\\nsoftware\\nthat\\nis\\ndistributed\\n(i)\\nas\\n“free\\nsoftware”\\n(as \\ndefined\\nby\\nthe\\nFree\\nSoftware\\nFoundation),\\n(ii)\\nas\\n“open\\nsource\\nsoftware”\\nor\\npursuant\\nto\\nany \\nlicense\\nidentified\\nas\\nan\\n“open\\nsource\\nlicense”\\nby\\nthe\\nOpen\\nSource\\nInitiative \\n(www .opensource.or g/licenses)\\nor\\nother\\nlicense\\nthat\\nsubstantially\\nconforms\\nto\\nthe\\nOpen\\nSource \\nDefinition\\n(opensource.or g/osd),\\nor\\n(iii)\\nunder\\nany\\nsimilar\\nlicensing\\nor\\ndistribution\\nmodel,\\nor\\n(iv) \\nunder\\na\\nlicense\\nthat\\nrequires\\ndisclosure\\nof\\nsource\\ncode\\nor\\nrequires\\nderivative\\nworks\\nbased\\non\\nsuch \\nsoftware\\nto\\nbe\\nmade\\npublicly\\navailable\\nunder\\nthe\\nsame\\nlicense.\\n“\\nOrdinance\\n”\\nor\\nthe\\n“']"
      ]
     },
     "execution_count": 20,
     "metadata": {},
     "output_type": "execute_result"
    }
   ],
   "source": [
    "texts[:50]"
   ]
  },
  {
   "cell_type": "code",
   "execution_count": 21,
   "id": "f482609d-4201-43df-9e84-466ca032c071",
   "metadata": {},
   "outputs": [],
   "source": [
    "astra_vector_store.add_texts(texts[:50])\n",
    "astra_vector_index = VectorStoreIndexWrapper(vectorstore=astra_vector_store)"
   ]
  },
  {
   "cell_type": "code",
   "execution_count": 22,
   "id": "302f05b5-a960-44d9-a320-3b006d844075",
   "metadata": {},
   "outputs": [],
   "source": [
    " first_question=\"who made a deal in Raptor Contract\""
   ]
  },
  {
   "cell_type": "code",
   "execution_count": 23,
   "id": "b2942e2d-cf95-420f-8654-37a2e2a4dd73",
   "metadata": {},
   "outputs": [
    {
     "data": {
      "text/plain": [
       "'This context does not mention any deal being made in Raptor Contract. It is discussing a stock purchase agreement among buyers and sellers.'"
      ]
     },
     "execution_count": 23,
     "metadata": {},
     "output_type": "execute_result"
    }
   ],
   "source": [
    "answer=astra_vector_index.query(first_question, llm=llm).strip()\n",
    "answer"
   ]
  },
  {
   "cell_type": "code",
   "execution_count": null,
   "id": "b1d910ee-35fc-4f02-bcb8-a7b2050548ff",
   "metadata": {},
   "outputs": [],
   "source": []
  }
 ],
 "metadata": {
  "kernelspec": {
   "display_name": "Python 3 (ipykernel)",
   "language": "python",
   "name": "python3"
  },
  "language_info": {
   "codemirror_mode": {
    "name": "ipython",
    "version": 3
   },
   "file_extension": ".py",
   "mimetype": "text/x-python",
   "name": "python",
   "nbconvert_exporter": "python",
   "pygments_lexer": "ipython3",
   "version": "3.11.7"
  }
 },
 "nbformat": 4,
 "nbformat_minor": 5
}
