{
 "cells": [
  {
   "cell_type": "code",
   "execution_count": 1,
   "id": "a9474a4c-bcc3-4db6-9581-083983b6aab7",
   "metadata": {},
   "outputs": [],
   "source": [
    "from dotenv import load_dotenv, find_dotenv\n",
    "import os"
   ]
  },
  {
   "cell_type": "code",
   "execution_count": 2,
   "id": "34184238-2a32-4381-8065-e1f7c57f2a2b",
   "metadata": {},
   "outputs": [
    {
     "data": {
      "text/plain": [
       "True"
      ]
     },
     "execution_count": 2,
     "metadata": {},
     "output_type": "execute_result"
    }
   ],
   "source": [
    "# Load environment variables from the .env file\n",
    "dotenv_path = find_dotenv()\n",
    "load_dotenv(dotenv_path)"
   ]
  },
  {
   "cell_type": "code",
   "execution_count": 3,
   "id": "e58dd611-32a1-4885-a4fc-712cb9391e97",
   "metadata": {},
   "outputs": [],
   "source": [
    "OPENAI_API_KEY=os.getenv(\"OPENAI_API_KEY\")"
   ]
  },
  {
   "cell_type": "code",
   "execution_count": 4,
   "id": "122755e9-45ee-4f98-ab7d-12277c39e3e1",
   "metadata": {},
   "outputs": [],
   "source": [
    "system_template = \"\"\"Use the following pieces of context to answer the users question.\n",
    "                     If you don't knwo the answer, just say that you don't know, don't try to make up an answer.\n",
    "                     {context}\n",
    "\n",
    "                     Begin!\n",
    "\n",
    "                     -------------------\n",
    "                     Question: {question}\n",
    "                     Answer: \"\"\""
   ]
  },
  {
   "cell_type": "code",
   "execution_count": 5,
   "id": "209f4219-87b8-4041-b9cb-f23e653ec9b6",
   "metadata": {},
   "outputs": [],
   "source": [
    "from langchain.prompts.chat import (\n",
    "    ChatPromptTemplate,\n",
    "    SystemMessagePromptTemplate,\n",
    "    HumanMessagePromptTemplate\n",
    ")\n",
    "\n",
    "messages = [\n",
    "    SystemMessagePromptTemplate.from_template(system_template),\n",
    "    HumanMessagePromptTemplate.from_template(\"{question}\")\n",
    "]\n",
    "\n",
    "prompt = ChatPromptTemplate.from_messages(messages)"
   ]
  },
  {
   "cell_type": "code",
   "execution_count": 6,
   "id": "da4796d9-e6ef-486a-a35c-b61d3a7c1337",
   "metadata": {},
   "outputs": [],
   "source": [
    "from langchain.document_loaders import PyPDFLoader\n",
    "\n",
    "loader = PyPDFLoader(\"Robinson Advisory.docx.pdf\")\n",
    "data = loader.load()"
   ]
  },
  {
   "cell_type": "code",
   "execution_count": 7,
   "id": "380b96b6-d411-4c58-a5a3-b2789cbbfae0",
   "metadata": {},
   "outputs": [
    {
     "data": {
      "text/plain": [
       "'from langchain.text_splitter import RecursiveCharacterTextSplitter\\n\\ntext_splitter = RecursiveCharacterTextSplitter(chunk_size = 1000, chunk_overlap = 0)\\ndocs = text_splitter.split_documents(data)'"
      ]
     },
     "execution_count": 7,
     "metadata": {},
     "output_type": "execute_result"
    }
   ],
   "source": [
    "'''from langchain.text_splitter import RecursiveCharacterTextSplitter\n",
    "\n",
    "text_splitter = RecursiveCharacterTextSplitter(chunk_size = 1000, chunk_overlap = 0)\n",
    "docs = text_splitter.split_documents(data)'''"
   ]
  },
  {
   "cell_type": "code",
   "execution_count": 8,
   "id": "0cb43002-5637-4c1c-98de-990a5fca27dc",
   "metadata": {},
   "outputs": [],
   "source": [
    "from langchain.docstore.document import Document\n",
    "from langchain.text_splitter import RecursiveCharacterTextSplitter\n",
    "\n",
    "text_splitter = RecursiveCharacterTextSplitter(chunk_size = 1000, chunk_overlap = 0)\n",
    "texts = text_splitter.split_text(data[1].page_content)\n",
    "docs_one = [Document(page_content=t) for t in texts[:]]"
   ]
  },
  {
   "cell_type": "code",
   "execution_count": 9,
   "id": "e8cf96ba-0540-4278-b11a-2748d77277de",
   "metadata": {},
   "outputs": [
    {
     "name": "stdout",
     "output_type": "stream",
     "text": [
      "[Document(page_content='-\\n2\\n-\\n4.\\nTerm\\n:\\nThe\\nterm\\nof\\nthis\\nAgreement\\nshall\\ncommence\\non\\nthe\\nEffective\\nDate\\nand\\nshall\\ncontinue\\nuntil \\nterminated\\nin\\naccordance\\nwith\\nthe\\nprovisions\\nherein\\n(the\\n\"\\nTerm\\n\").\\n5.\\nTermination\\n:\\nEither\\nparty ,\\nat\\nany\\ngiven\\ntime,\\nmay\\nterminate\\nthis\\nAgreement,\\nfor\\nany\\nreason \\nwhatsoever ,\\nwith\\nor\\nwithout\\ncause,\\nupon\\nfourteen\\n(14)\\ndays’\\nprior\\nwritten\\nnotice.\\nNotwithstanding\\nthe \\nabove,\\nthe\\nCompany\\nmay\\nterminate\\nthis\\nAgreement\\nimmediately\\nand\\nwithout\\nprior\\nnotice\\nif\\nAdvisor \\nrefuses\\nor\\nis\\nunable\\nto\\nperform\\nthe\\nServices,\\nor\\nis\\nin\\nbreach\\nof\\nany\\nprovision\\nof\\nthis\\nAgreement.\\n6.\\nCompensation:\\n6.1\\nAs\\nfull\\nand\\nsole\\nconsideration\\nfor\\nthe\\nServices,\\nand\\nsubject\\nto\\nthe\\nperformance\\nof\\nthe\\nServices, \\nthe\\nCompany\\nshall\\npay\\nthe\\nAdvisor ,\\nagainst\\nan\\ninvoice\\nprovided\\nto\\nthe\\nCompany\\nby\\nAdvisor , \\nhourly\\nfees\\nat\\na\\nrate\\nof\\nUSD\\n9\\n(nine)\\nper\\nBillable\\nHour\\nas\\ndefined\\nbelow ,\\nlimited\\nto\\na\\nmaximum \\nof\\nUSD\\n1,500\\nper\\nmonth\\n(the\\n\"\\nFees\\n\").\\nIn\\naddition,\\nthe\\nCompany\\nshall\\npay\\nthe\\nadvisor\\nUSD\\n100 \\nper\\nmonth\\nto\\nfinance\\na'), Document(page_content=\"workspace\\nfor\\nthe\\nAdvisor ,\\nas\\nlong\\nas\\nthe\\nAdvisor\\nactually\\nhires\\na \\nprofessional\\nworkspace\\n(the\\n“\\nWorkspace\\nExpense\\n”).\\nAdvisor\\nwill\\nnot\\nbe\\nentitled\\nto\\nany \\nadditional\\nfees\\nor\\nexpense\\nreimbursement\\nwhatsoever ,\\nexcept\\nas\\nexpressly\\nprovided\\nfor\\nin\\nthis \\nAgreement.\\nBillable\\nHour:\\nNet\\ntime\\ndevoted\\nto\\nthe\\nprovisioning\\nof\\nthe\\nServices,\\nwithout\\ncalculating\\nmeals, \\ntravels\\nor\\nany\\nother\\noverhead\\ntime\\nborne\\nby\\nthe\\nAdvisor .\\n6.2\\nThe\\nFees\\nand\\nthe\\nWorkspace\\nExpense\\nfor\\neach\\nmonth\\nshall\\nbe\\npayable\\nby\\nno\\nlater\\nthan\\nten\\n(10) \\ndays\\nfrom\\nthe\\nbeginning\\nof\\nthe\\nfollowing\\nmonth,\\nagainst\\nreceipt\\nby\\nthe\\nCompany\\nof\\na\\nduly\\nissued \\ntax\\ninvoice.\\n6.3\\nIn\\naddition,\\nthe\\nCompany\\nshall\\nreimburse\\nAdvisor\\nfor\\nany\\nreasonable\\nand\\nactual\\nexpenses \\nincurred\\nby\\nthe\\nAdvisor\\nin\\nconnection\\nwith\\nthe\\nperformance\\nof\\nthe\\nServices,\\nall\\nin\\naccordance \\nwith\\nthe\\nCompany’ s\\npolicies\\nas\\ndetermined\\nby\\nthe\\nBoard\\nof\\nDirectors\\nfrom\\ntime\\nto\\ntime,\\nand \\nsubject\\nto\\nCompany's\\nprior\\nwritten\\nconsent\\nfor\\neach\\nspecific\\nexpense,\\nbefore\\nAdvisor\"), Document(page_content='incurs\\nsuch \\nexpenses.\\nAs\\na\\ncondition\\nto\\nreimbursement,\\nAdvisor\\nshall\\nprovide\\nthe\\nCompany\\nwith\\ncopies\\nof \\nall\\ninvoices,\\nreceipts\\nand\\nother\\nevidence\\nof\\nexpenditures\\nas\\nrequired\\nby\\nCompany\\npolicy .\\n6.4\\nAdvisor\\nshall\\nbe\\nsolely\\nresponsible\\nfor\\nany\\nincome\\ntaxes\\nor\\nother\\nassessments\\nmade\\nor\\nimposed \\nby\\nany\\ngovernmental\\nauthority\\non\\nAdvisor\\nwith\\nrespect\\nto\\nthe\\nServices\\nrendered\\nand\\nthe \\ncompensation\\nreceived\\nhereunder ,\\nand\\nany\\nand\\nall\\nexpenses\\nand\\ncosts\\nof\\nhimself,\\nemployees, \\nagents\\nand\\nrepresentatives,\\nincluding,\\nwithout\\nlimitation,\\nany\\nsalary ,\\novertime,\\nseverance\\nor \\nsocial\\nbenefits\\npayable\\nthereto,\\nand\\nmarketing\\ncosts\\nincurred\\nin\\nconnection\\nwith\\nthe\\nperformance \\nof\\nobligations\\nhereunder .\\n7.\\nConfidentiality ,\\nNon-Competition\\nand\\nIP\\nOwnership\\nUndertaking\\n:\\nIn\\nconnection\\nwith\\nthe \\nperformance\\nof\\nAdvisor ’s\\nobligations\\nunder\\nthis\\nAgreement,\\nthe\\nAdvisor\\nshall\\nexecute\\na \\nConfidentiality ,\\nNon-Competition\\nand\\nIP\\nOwnership\\nUndertaking\\nin\\nthe\\nform\\nattached\\nhereto\\nas \\nExhibit\\nA\\n.\\n8.'), Document(page_content=\"Relationship\\nof\\nthe\\nParties;\\nIndemnification\\n:\\nThe\\nsole\\nrelationship\\nbetween\\nthe\\nCompany\\nand\\nthe \\nAdvisor\\nshall\\nbe\\nthat\\nof\\nindependent\\ncontractors.\\nAdvisor\\nshall\\nnot\\nbe\\ndeemed\\nto\\nbe,\\nnor\\ntreated\\nby\\nthe \\nCompany\\nas,\\nan\\nemployee\\nof\\nthe\\nCompany .\\nAdvisor\\nshall\\nnot\\nreceive\\nnor\\nbe\\nentitled\\nto\\novertime\\npay, \\ninsurance,\\npaid\\nvacation,\\nseverance\\npayments\\nor\\nsimilar\\nfringe\\nor\\nemployment\\nbenefits\\nfrom\\nthe \\nCompany .\\nWithout\\nderogating\\nfrom\\nthe\\nabove,\\nif\\nit\\nis\\nadjudicated\\nor\\notherwise\\ndetermined\\nby\\nany \\ngovernmental\\nauthority\\nthat\\nthe\\nAdvisor\\nand/or\\nanyone\\non\\nAdvisor's\\nbehalf,\\nis,\\nregardless\\nof\\nthe\\nterms \\nof\\nthis\\nAgreement,\\nan\\nemployee\\nof\\nthe\\nCompany ,\\nthen\\npayments\\nto\\nAdvisor\\nhereunder\\nshall\\nbe \\nreduced\\neffective\\nretroactively\\nas\\nof\\nthe\\nbeginning\\nof\\nthe\\nTerm\\nso\\nthat\\n60%\\nof\\nsuch\\npayments\\nshall\")]\n"
     ]
    }
   ],
   "source": [
    "print(docs_one)"
   ]
  },
  {
   "cell_type": "code",
   "execution_count": 10,
   "id": "de6c5d59-55b8-465f-9671-a5254d65f49f",
   "metadata": {},
   "outputs": [
    {
     "name": "stderr",
     "output_type": "stream",
     "text": [
      "/home/ablaze/miniconda3/envs/week_11_backend/lib/python3.11/site-packages/langchain_core/_api/deprecation.py:117: LangChainDeprecationWarning: The class `langchain_community.embeddings.openai.OpenAIEmbeddings` was deprecated in langchain-community 0.1.0 and will be removed in 0.2.0. An updated version of the class exists in the langchain-openai package and should be used instead. To use it run `pip install -U langchain-openai` and import as `from langchain_openai import OpenAIEmbeddings`.\n",
      "  warn_deprecated(\n"
     ]
    }
   ],
   "source": [
    "from langchain.embeddings import OpenAIEmbeddings\n",
    "from langchain.vectorstores import Chroma\n",
    "\n",
    "embedding=OpenAIEmbeddings(openai_api_key=OPENAI_API_KEY)\n",
    "vectorstore = Chroma.from_documents(documents=docs_one,embedding=embedding)"
   ]
  },
  {
   "cell_type": "code",
   "execution_count": 11,
   "id": "61801497-d313-4e8b-a1eb-b0f0f3ff6760",
   "metadata": {},
   "outputs": [
    {
     "name": "stderr",
     "output_type": "stream",
     "text": [
      "/home/ablaze/miniconda3/envs/week_11_backend/lib/python3.11/site-packages/langchain_core/_api/deprecation.py:117: LangChainDeprecationWarning: The class `langchain_community.chat_models.openai.ChatOpenAI` was deprecated in langchain-community 0.0.10 and will be removed in 0.2.0. An updated version of the class exists in the langchain-openai package and should be used instead. To use it run `pip install -U langchain-openai` and import as `from langchain_openai import ChatOpenAI`.\n",
      "  warn_deprecated(\n"
     ]
    }
   ],
   "source": [
    "from langchain.chat_models import ChatOpenAI\n",
    "\n",
    "llm=ChatOpenAI(temperature=0, model=\"gpt-3.5-turbo-0613\",openai_api_key = OPENAI_API_KEY)"
   ]
  },
  {
   "cell_type": "code",
   "execution_count": 12,
   "id": "dff9d7c2-6d49-4dad-910d-70dde0020015",
   "metadata": {},
   "outputs": [
    {
     "data": {
      "text/plain": [
       "'docs = vectorstore.similarity_search(question)\\nlen(docs)'"
      ]
     },
     "execution_count": 12,
     "metadata": {},
     "output_type": "execute_result"
    }
   ],
   "source": [
    "question = \"What is ADVISORY SERVICES AGREEMENT\"\n",
    "'''docs = vectorstore.similarity_search(question)\n",
    "len(docs)'''"
   ]
  },
  {
   "cell_type": "code",
   "execution_count": 13,
   "id": "3394312c-3962-4d09-a1e3-b0f169c9ab2b",
   "metadata": {},
   "outputs": [
    {
     "name": "stderr",
     "output_type": "stream",
     "text": [
      "/home/ablaze/miniconda3/envs/week_11_backend/lib/python3.11/site-packages/langchain_core/_api/deprecation.py:117: LangChainDeprecationWarning: The function `__call__` was deprecated in LangChain 0.1.0 and will be removed in 0.2.0. Use invoke instead.\n",
      "  warn_deprecated(\n"
     ]
    }
   ],
   "source": [
    "from langchain.chains import RetrievalQA\n",
    "\n",
    "qa_chain = RetrievalQA.from_chain_type(\n",
    "    llm,\n",
    "    retriever=vectorstore.as_retriever(),\n",
    "    chain_type_kwargs = {\"prompt\": prompt})\n",
    "result = qa_chain({\"query\": question})"
   ]
  },
  {
   "cell_type": "code",
   "execution_count": 14,
   "id": "57168a09-be1e-40fe-8afd-eaca4fe6e924",
   "metadata": {},
   "outputs": [
    {
     "name": "stdout",
     "output_type": "stream",
     "text": [
      "{'query': 'What is ADVISORY SERVICES AGREEMENT', 'result': 'An Advisory Services Agreement is a contract between a company and an advisor or consultant who provides professional advice and expertise to the company. The agreement outlines the scope of services to be provided, the compensation for the advisor, and any other terms and conditions related to the advisory relationship. It also typically includes provisions regarding confidentiality, non-competition, and intellectual property ownership.'}\n"
     ]
    }
   ],
   "source": [
    "print(result)"
   ]
  },
  {
   "cell_type": "code",
   "execution_count": null,
   "id": "06796172-6277-4d97-9fc0-89666b117449",
   "metadata": {},
   "outputs": [],
   "source": []
  },
  {
   "cell_type": "code",
   "execution_count": null,
   "id": "f65cf94b-a3b1-4e45-898d-e3833cd59c9b",
   "metadata": {},
   "outputs": [],
   "source": []
  }
 ],
 "metadata": {
  "kernelspec": {
   "display_name": "Python 3 (ipykernel)",
   "language": "python",
   "name": "python3"
  },
  "language_info": {
   "codemirror_mode": {
    "name": "ipython",
    "version": 3
   },
   "file_extension": ".py",
   "mimetype": "text/x-python",
   "name": "python",
   "nbconvert_exporter": "python",
   "pygments_lexer": "ipython3",
   "version": "3.11.7"
  }
 },
 "nbformat": 4,
 "nbformat_minor": 5
}
